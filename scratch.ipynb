{
 "cells": [
  {
   "cell_type": "code",
   "execution_count": 7,
   "metadata": {
    "pycharm": {
     "name": "#%%\n"
    }
   },
   "outputs": [],
   "source": [
    "from tensorflow import keras\n",
    "from sklearn.preprocessing import StandardScaler\n",
    "import numpy as np\n",
    "import pandas as pd\n",
    "import tensorflow as tf\n",
    "\n",
    "np.random.seed(12)\n",
    "tf.random.set_seed(12)\n",
    "\n",
    "from keras.models import Sequential\n",
    "from keras.layers import Dense, LSTM, Dropout, RepeatVector, TimeDistributed, Reshape\n",
    "import matplotlib.pyplot as plt\n",
    "import plotly.graph_objects as go"
   ]
  },
  {
   "cell_type": "code",
   "execution_count": 1,
   "metadata": {
    "pycharm": {
     "name": "#%%\n"
    }
   },
   "outputs": [],
   "source": [
    "import DataStore\n",
    "\n",
    "ds = DataStore.DataStore(\"data\", 1)"
   ]
  },
  {
   "cell_type": "code",
   "execution_count": 2,
   "metadata": {
    "pycharm": {
     "name": "#%%\n"
    }
   },
   "outputs": [
    {
     "data": {
      "text/plain": [
       "2735"
      ]
     },
     "execution_count": 2,
     "metadata": {},
     "output_type": "execute_result"
    }
   ],
   "source": [
    "ds.trainData['A-3'].shuffle()\n",
    "len(ds.trainData['A-3'].x)"
   ]
  },
  {
   "cell_type": "code",
   "execution_count": 3,
   "metadata": {
    "pycharm": {
     "name": "#%%\n"
    }
   },
   "outputs": [],
   "source": [
    "X_train = ds.trainData['A-3'].x\n",
    "Y_train = ds.trainData['A-3'].y"
   ]
  },
  {
   "cell_type": "code",
   "execution_count": 4,
   "metadata": {
    "pycharm": {
     "name": "#%%\n"
    }
   },
   "outputs": [
    {
     "data": {
      "text/plain": [
       "(2735, 1, 25)"
      ]
     },
     "execution_count": 4,
     "metadata": {},
     "output_type": "execute_result"
    }
   ],
   "source": [
    "X_train.shape"
   ]
  },
  {
   "cell_type": "code",
   "execution_count": 5,
   "metadata": {
    "pycharm": {
     "name": "#%%\n"
    }
   },
   "outputs": [
    {
     "data": {
      "text/plain": [
       "(25,)"
      ]
     },
     "execution_count": 5,
     "metadata": {},
     "output_type": "execute_result"
    }
   ],
   "source": [
    "Y_train[0].shape"
   ]
  },
  {
   "cell_type": "code",
   "execution_count": 11,
   "metadata": {
    "pycharm": {
     "name": "#%%\n"
    }
   },
   "outputs": [
    {
     "name": "stdout",
     "output_type": "stream",
     "text": [
      "Model: \"sequential_2\"\n",
      "_________________________________________________________________\n",
      "Layer (type)                 Output Shape              Param #   \n",
      "=================================================================\n",
      "lstm_4 (LSTM)                (None, 256)               288768    \n",
      "_________________________________________________________________\n",
      "dropout_4 (Dropout)          (None, 256)               0         \n",
      "_________________________________________________________________\n",
      "repeat_vector_2 (RepeatVecto (None, 1, 256)            0         \n",
      "_________________________________________________________________\n",
      "lstm_5 (LSTM)                (None, 1, 128)            197120    \n",
      "_________________________________________________________________\n",
      "dropout_5 (Dropout)          (None, 1, 128)            0         \n",
      "_________________________________________________________________\n",
      "time_distributed_2 (TimeDist (None, 1, 25)             3225      \n",
      "=================================================================\n",
      "Total params: 489,113\n",
      "Trainable params: 489,113\n",
      "Non-trainable params: 0\n",
      "_________________________________________________________________\n"
     ]
    }
   ],
   "source": [
    "model = Sequential()\n",
    "model.add(LSTM(256, input_shape=(X_train.shape[1], X_train.shape[2])))\n",
    "model.add(Dropout(rate=0.2))\n",
    "model.add(RepeatVector(X_train.shape[1]))\n",
    "model.add(LSTM(128, return_sequences=True))\n",
    "model.add(Dropout(rate=0.2))\n",
    "model.add(TimeDistributed(Dense(X_train.shape[2])))\n",
    "model.compile(optimizer='adam', loss='mae')\n",
    "model.summary()"
   ]
  },
  {
   "cell_type": "code",
   "execution_count": 12,
   "metadata": {
    "pycharm": {
     "name": "#%%\n"
    }
   },
   "outputs": [
    {
     "name": "stdout",
     "output_type": "stream",
     "text": [
      "Epoch 1/35\n",
      "2188/2188 [==============================] - 13s 5ms/step - loss: 0.0305 - val_loss: 0.0264\n",
      "Epoch 2/35\n",
      "2188/2188 [==============================] - 9s 4ms/step - loss: 0.0254 - val_loss: 0.0252\n",
      "Epoch 3/35\n",
      "2188/2188 [==============================] - 9s 4ms/step - loss: 0.0247 - val_loss: 0.0260\n",
      "Epoch 4/35\n",
      "2188/2188 [==============================] - 9s 4ms/step - loss: 0.0244 - val_loss: 0.0247\n",
      "Epoch 5/35\n",
      "2188/2188 [==============================] - 9s 4ms/step - loss: 0.0244 - val_loss: 0.0256\n",
      "Epoch 6/35\n",
      "2188/2188 [==============================] - 9s 4ms/step - loss: 0.0241 - val_loss: 0.0246\n",
      "Epoch 7/35\n",
      "2188/2188 [==============================] - 9s 4ms/step - loss: 0.0238 - val_loss: 0.0245\n",
      "Epoch 8/35\n",
      "2188/2188 [==============================] - 9s 4ms/step - loss: 0.0237 - val_loss: 0.0246\n",
      "Epoch 9/35\n",
      "2188/2188 [==============================] - 9s 4ms/step - loss: 0.0237 - val_loss: 0.0246\n",
      "Epoch 10/35\n",
      "2188/2188 [==============================] - 9s 4ms/step - loss: 0.0237 - val_loss: 0.0241\n",
      "Epoch 11/35\n",
      "2188/2188 [==============================] - 9s 4ms/step - loss: 0.0235 - val_loss: 0.0240\n",
      "Epoch 12/35\n",
      "2188/2188 [==============================] - 9s 4ms/step - loss: 0.0234 - val_loss: 0.0227\n",
      "Epoch 13/35\n",
      "2188/2188 [==============================] - 9s 4ms/step - loss: 0.0234 - val_loss: 0.0231\n",
      "Epoch 14/35\n",
      "2188/2188 [==============================] - 9s 4ms/step - loss: 0.0233 - val_loss: 0.0246\n",
      "Epoch 15/35\n",
      "2188/2188 [==============================] - 9s 4ms/step - loss: 0.0233 - val_loss: 0.0237\n",
      "Epoch 16/35\n",
      "2188/2188 [==============================] - 9s 4ms/step - loss: 0.0231 - val_loss: 0.0239\n",
      "Epoch 17/35\n",
      "2188/2188 [==============================] - 9s 4ms/step - loss: 0.0232 - val_loss: 0.0236\n",
      "Epoch 18/35\n",
      "2188/2188 [==============================] - 9s 4ms/step - loss: 0.0232 - val_loss: 0.0240\n",
      "Epoch 19/35\n",
      "2188/2188 [==============================] - 9s 4ms/step - loss: 0.0230 - val_loss: 0.0236\n",
      "Epoch 20/35\n",
      "2188/2188 [==============================] - 9s 4ms/step - loss: 0.0229 - val_loss: 0.0235\n",
      "Epoch 21/35\n",
      "2188/2188 [==============================] - 9s 4ms/step - loss: 0.0230 - val_loss: 0.0227\n",
      "Epoch 22/35\n",
      "2188/2188 [==============================] - 9s 4ms/step - loss: 0.0229 - val_loss: 0.0231\n"
     ]
    }
   ],
   "source": [
    "history = model.fit(X_train, Y_train, epochs=35, batch_size=1, validation_split=0.2,\n",
    "                    callbacks=[keras.callbacks.EarlyStopping(monitor='val_loss', patience=10, mode='min')], shuffle=False)"
   ]
  },
  {
   "cell_type": "code",
   "execution_count": 13,
   "metadata": {
    "pycharm": {
     "name": "#%%\n"
    }
   },
   "outputs": [
    {
     "data": {
      "image/png": "[encoded data removed]",
      "text/plain": [
       "<Figure size 432x288 with 1 Axes>"
      ]
     },
     "metadata": {
      "needs_background": "light"
     },
     "output_type": "display_data"
    }
   ],
   "source": [
    "plt.plot(history.history['loss'], label='Training loss')\n",
    "plt.plot(history.history['val_loss'], label='Validation loss')\n",
    "plt.legend();"
   ]
  },
  {
   "cell_type": "code",
   "execution_count": 11,
   "metadata": {
    "pycharm": {
     "name": "#%%\n"
    }
   },
   "outputs": [],
   "source": [
    "model.save(\"models/experimental/A-3.h5\")"
   ]
  },
  {
   "cell_type": "code",
   "execution_count": 12,
   "metadata": {
    "pycharm": {
     "name": "#%%\n"
    }
   },
   "outputs": [
    {
     "name": "stdout",
     "output_type": "stream",
     "text": [
      "/users/juanjose/git/Seq2SeqAnom\n"
     ]
    }
   ],
   "source": [
    "!pwd"
   ]
  },
  {
   "cell_type": "code",
   "execution_count": 21,
   "metadata": {
    "pycharm": {
     "name": "#%%\n"
    }
   },
   "outputs": [
    {
     "data": {
      "text/plain": [
       "25"
      ]
     },
     "execution_count": 21,
     "metadata": {},
     "output_type": "execute_result"
    }
   ],
   "source": [
    "Y_train[0].size"
   ]
  },
  {
   "cell_type": "code",
   "execution_count": 83,
   "metadata": {
    "pycharm": {
     "name": "#%%\n"
    }
   },
   "outputs": [
    {
     "name": "stdout",
     "output_type": "stream",
     "text": [
      "90/90 [==============================] - 1s 2ms/step\n"
     ]
    }
   ],
   "source": [
    "X_train_pred = model.predict(X_train, verbose=1)"
   ]
  },
  {
   "cell_type": "code",
   "execution_count": 84,
   "metadata": {
    "pycharm": {
     "name": "#%%\n"
    }
   },
   "outputs": [
    {
     "data": {
      "text/plain": [
       "array([[ 9.9860448e-01, -2.3492915e-04, -4.7763584e-05, -2.6586550e-04,\n",
       "         2.0411733e-04,  1.7765150e-03,  1.7505013e-04, -2.2148446e-04,\n",
       "        -2.5317489e-04, -1.0624896e-04,  3.2701682e-05,  4.5945621e-05,\n",
       "        -4.3974145e-05, -3.6656685e-04,  2.0801292e-04, -3.0440878e-04,\n",
       "        -1.5865662e-05, -1.5860736e-04,  3.0441288e-04,  1.3508144e-04,\n",
       "         3.6879352e-04, -1.5078802e-04, -2.5605957e-05, -1.9803467e-04,\n",
       "         2.1783095e-04]], dtype=float32)"
      ]
     },
     "execution_count": 84,
     "metadata": {},
     "output_type": "execute_result"
    }
   ],
   "source": [
    "X_train_pred[0]"
   ]
  },
  {
   "cell_type": "code",
   "execution_count": 85,
   "metadata": {
    "pycharm": {
     "name": "#%%\n"
    }
   },
   "outputs": [
    {
     "data": {
      "text/plain": [
       "array([[0.999, 0.   , 0.   , 0.   , 0.   , 0.   , 0.   , 0.   , 0.   ,\n",
       "        0.   , 0.   , 0.   , 0.   , 0.   , 0.   , 0.   , 0.   , 0.   ,\n",
       "        0.   , 0.   , 0.   , 0.   , 0.   , 0.   , 0.   ],\n",
       "       [0.999, 0.   , 0.   , 0.   , 0.   , 0.   , 0.   , 0.   , 0.   ,\n",
       "        0.   , 0.   , 0.   , 0.   , 0.   , 0.   , 0.   , 0.   , 0.   ,\n",
       "        0.   , 0.   , 0.   , 0.   , 0.   , 0.   , 0.   ],\n",
       "       [0.999, 0.   , 0.   , 0.   , 0.   , 0.   , 0.   , 0.   , 0.   ,\n",
       "        0.   , 0.   , 0.   , 0.   , 0.   , 0.   , 0.   , 0.   , 0.   ,\n",
       "        0.   , 0.   , 0.   , 0.   , 0.   , 0.   , 0.   ],\n",
       "       [0.999, 0.   , 0.   , 0.   , 0.   , 0.   , 0.   , 0.   , 0.   ,\n",
       "        0.   , 0.   , 0.   , 0.   , 0.   , 0.   , 0.   , 0.   , 0.   ,\n",
       "        0.   , 0.   , 0.   , 0.   , 0.   , 0.   , 0.   ],\n",
       "       [0.999, 0.   , 0.   , 0.   , 0.   , 0.   , 0.   , 0.   , 0.   ,\n",
       "        0.   , 0.   , 0.   , 0.   , 0.   , 0.   , 0.   , 0.   , 0.   ,\n",
       "        0.   , 0.   , 0.   , 0.   , 0.   , 0.   , 0.   ]])"
      ]
     },
     "execution_count": 85,
     "metadata": {},
     "output_type": "execute_result"
    }
   ],
   "source": [
    "X_train[0]"
   ]
  },
  {
   "cell_type": "code",
   "execution_count": 89,
   "metadata": {
    "pycharm": {
     "name": "#%%\n"
    }
   },
   "outputs": [
    {
     "data": {
      "text/plain": [
       "array([[3.95523548e-04, 1.00023493e+00, 4.77635840e-05, 1.00026587e+00,\n",
       "        2.04117328e-04, 9.98223485e-01, 1.75050125e-04, 2.21484457e-04,\n",
       "        2.53174891e-04, 1.06248961e-04, 3.27016824e-05, 4.59456205e-05,\n",
       "        4.39741452e-05, 3.66566848e-04, 2.08012920e-04, 3.04408779e-04,\n",
       "        1.58656621e-05, 1.58607363e-04, 3.04412883e-04, 9.99864919e-01,\n",
       "        3.68793524e-04, 1.50788022e-04, 2.56059575e-05, 1.98034671e-04,\n",
       "        2.17830951e-04]])"
      ]
     },
     "execution_count": 89,
     "metadata": {},
     "output_type": "execute_result"
    }
   ],
   "source": [
    "np.abs(X_train_pred[0] - Y_train[0])"
   ]
  },
  {
   "cell_type": "code",
   "execution_count": 88,
   "metadata": {
    "pycharm": {
     "name": "#%%\n"
    }
   },
   "outputs": [
    {
     "data": {
      "text/plain": [
       "array([0.999, 1.   , 0.   , 1.   , 0.   , 1.   , 0.   , 0.   , 0.   ,\n",
       "       0.   , 0.   , 0.   , 0.   , 0.   , 0.   , 0.   , 0.   , 0.   ,\n",
       "       0.   , 1.   , 0.   , 0.   , 0.   , 0.   , 0.   ])"
      ]
     },
     "execution_count": 88,
     "metadata": {},
     "output_type": "execute_result"
    }
   ],
   "source": [
    "np.transpose(Y_train[0])"
   ]
  },
  {
   "cell_type": "code",
   "execution_count": 90,
   "metadata": {
    "pycharm": {
     "name": "#%%\n"
    }
   },
   "outputs": [
    {
     "data": {
      "text/plain": [
       "array([[ 9.9860448e-01, -2.3492915e-04, -4.7763584e-05, -2.6586550e-04,\n",
       "         2.0411733e-04,  1.7765150e-03,  1.7505013e-04, -2.2148446e-04,\n",
       "        -2.5317489e-04, -1.0624896e-04,  3.2701682e-05,  4.5945621e-05,\n",
       "        -4.3974145e-05, -3.6656685e-04,  2.0801292e-04, -3.0440878e-04,\n",
       "        -1.5865662e-05, -1.5860736e-04,  3.0441288e-04,  1.3508144e-04,\n",
       "         3.6879352e-04, -1.5078802e-04, -2.5605957e-05, -1.9803467e-04,\n",
       "         2.1783095e-04]], dtype=float32)"
      ]
     },
     "execution_count": 90,
     "metadata": {},
     "output_type": "execute_result"
    }
   ],
   "source": [
    "X_train_pred[0]"
   ]
  },
  {
   "cell_type": "code",
   "execution_count": null,
   "metadata": {
    "pycharm": {
     "name": "#%%\n"
    }
   },
   "outputs": [],
   "source": [
    "import matplotlib.pyplot as plt\n",
    "import numpy as np"
   ]
  },
  {
   "cell_type": "code",
   "execution_count": null,
   "metadata": {
    "pycharm": {
     "name": "#%%\n"
    }
   },
   "outputs": [],
   "source": [
    "plt.plot(ds.trainData['A-1'].y[81])"
   ]
  },
  {
   "cell_type": "code",
   "execution_count": null,
   "metadata": {
    "pycharm": {
     "name": "#%%\n"
    }
   },
   "outputs": [],
   "source": [
    "import pandas as pd\n",
    "import os"
   ]
  },
  {
   "cell_type": "code",
   "execution_count": null,
   "metadata": {
    "pycharm": {
     "name": "#%%\n"
    }
   },
   "outputs": [],
   "source": [
    "lbls = pd.read_csv(os.path.join(\"data\", \"labeled_anomalies.csv\"))"
   ]
  },
  {
   "cell_type": "code",
   "execution_count": null,
   "metadata": {
    "pycharm": {
     "name": "#%%\n"
    }
   },
   "outputs": [],
   "source": [
    "labels_dict = {}\n",
    "for rw in lbls.iterrows():\n",
    "    labels_dict[rw[1]['chan_id']] = str2ary(rw[1]['anomaly_sequences'])"
   ]
  },
  {
   "cell_type": "code",
   "execution_count": null,
   "metadata": {
    "pycharm": {
     "name": "#%%\n"
    }
   },
   "outputs": [],
   "source": [
    "def str2ary(str_):\n",
    "    x = str_.replace(\"]\",\"\").replace(\"[\",\"\")\n",
    "    x = x.split(\",\")\n",
    "    assert(not len(x)%2)\n",
    "    lst = []\n",
    "    for i in range(0, len(x), 2):\n",
    "        tmp  = range(int(x[i]), int(x[i+1]))\n",
    "        lst.append(tmp)\n",
    "    return lst"
   ]
  },
  {
   "cell_type": "code",
   "execution_count": 18,
   "metadata": {
    "pycharm": {
     "name": "#%%\n"
    }
   },
   "outputs": [
    {
     "data": {
      "text/plain": [
       "array([1, 2, 3, 4, 5, 6, 7, 8])"
      ]
     },
     "execution_count": 18,
     "metadata": {},
     "output_type": "execute_result"
    }
   ],
   "source": [
    "s = np.array([[1,2,3,4], [5,6,7,8]])\n",
    "s.flatten()"
   ]
  },
  {
   "cell_type": "code",
   "execution_count": null,
   "metadata": {
    "pycharm": {
     "name": "#%%\n"
    }
   },
   "outputs": [],
   "source": [
    "2155 in rs"
   ]
  },
  {
   "cell_type": "code",
   "execution_count": null,
   "metadata": {
    "pycharm": {
     "name": "#%%\n"
    }
   },
   "outputs": [],
   "source": [
    "import numpy as np\n",
    "import matplotlib.pyplot as plt\n",
    "from sklearn.neighbors import KernelDensity\n",
    "from sklearn.model_selection import GridSearchCV"
   ]
  },
  {
   "cell_type": "code",
   "execution_count": null,
   "metadata": {
    "pycharm": {
     "name": "#%%\n"
    }
   },
   "outputs": [],
   "source": [
    "def generate_data(seed=17):\n",
    "    # Fix the seed to reproduce the results\n",
    "    rand = np.random.RandomState(seed)\n",
    "    x = []\n",
    "    dat = rand.lognormal(0, 0.3, 1000)\n",
    "    x = np.concatenate((x, dat))\n",
    "    dat = rand.normal(3, 1, 1000)\n",
    "    x = np.concatenate((x, dat))\n",
    "    return x"
   ]
  },
  {
   "cell_type": "code",
   "execution_count": null,
   "metadata": {
    "pycharm": {
     "name": "#%%\n"
    }
   },
   "outputs": [],
   "source": [
    "x = generate_data()"
   ]
  },
  {
   "cell_type": "code",
   "execution_count": null,
   "metadata": {
    "pycharm": {
     "name": "#%%\n"
    }
   },
   "outputs": [],
   "source": [
    "x.shape"
   ]
  },
  {
   "cell_type": "code",
   "execution_count": null,
   "metadata": {
    "pycharm": {
     "name": "#%%\n"
    }
   },
   "outputs": [],
   "source": [
    "x[0]"
   ]
  },
  {
   "cell_type": "code",
   "execution_count": null,
   "metadata": {
    "pycharm": {
     "name": "#%%\n"
    }
   },
   "outputs": [],
   "source": [
    "plt.plot(x)"
   ]
  },
  {
   "cell_type": "code",
   "execution_count": null,
   "metadata": {
    "pycharm": {
     "name": "#%%\n"
    }
   },
   "outputs": [],
   "source": [
    "x_train = generate_data()[:, np.newaxis]\n",
    "fig, ax = plt.subplots(nrows=1, ncols=2, figsize=(10, 5))\n",
    "plt.subplot(121)\n",
    "plt.scatter(np.arange(len(x_train)), x_train, c='red')\n",
    "plt.xlabel('Sample no.')\n",
    "plt.ylabel('Value')\n",
    "plt.title('Scatter plot')\n",
    "plt.subplot(122)\n",
    "plt.hist(x_train, bins=50)\n",
    "plt.title('Histogram')\n",
    "fig.subplots_adjust(wspace=.3)\n",
    "plt.show()"
   ]
  },
  {
   "cell_type": "code",
   "execution_count": null,
   "metadata": {
    "pycharm": {
     "name": "#%%\n"
    }
   },
   "outputs": [],
   "source": [
    "x_test = np.linspace(-1, 7, 2000)[:, np.newaxis]"
   ]
  },
  {
   "cell_type": "code",
   "execution_count": null,
   "metadata": {
    "pycharm": {
     "name": "#%%\n"
    }
   },
   "outputs": [],
   "source": [
    "x_test.shape"
   ]
  },
  {
   "cell_type": "code",
   "execution_count": null,
   "metadata": {
    "pycharm": {
     "name": "#%%\n"
    }
   },
   "outputs": [],
   "source": [
    "x.shape"
   ]
  },
  {
   "cell_type": "code",
   "execution_count": null,
   "metadata": {
    "pycharm": {
     "name": "#%%\n"
    }
   },
   "outputs": [],
   "source": [
    "model = KernelDensity()\n",
    "model.fit(x_train)\n",
    "log_dens = model.score_samples(x_test)"
   ]
  },
  {
   "cell_type": "code",
   "execution_count": null,
   "metadata": {
    "pycharm": {
     "name": "#%%\n"
    }
   },
   "outputs": [],
   "source": [
    "log_dens"
   ]
  },
  {
   "cell_type": "code",
   "execution_count": null,
   "metadata": {
    "pycharm": {
     "name": "#%%\n"
    }
   },
   "outputs": [],
   "source": [
    "plt.plot(log_dens)"
   ]
  },
  {
   "cell_type": "code",
   "execution_count": null,
   "metadata": {
    "pycharm": {
     "name": "#%%\n"
    }
   },
   "outputs": [],
   "source": [
    "plt.fill(x_test, np.exp(log_dens), c='cyan')\n",
    "plt.show()"
   ]
  },
  {
   "cell_type": "code",
   "execution_count": null,
   "metadata": {
    "pycharm": {
     "name": "#%%\n"
    }
   },
   "outputs": [],
   "source": [
    "x_train.shape"
   ]
  },
  {
   "cell_type": "code",
   "execution_count": null,
   "metadata": {
    "pycharm": {
     "name": "#%%\n"
    }
   },
   "outputs": [],
   "source": [
    "bandwidths = [0.01, 0.05, 0.1, 0.5, 1, 4]\n",
    "fig, ax = plt.subplots(nrows=2, ncols=3, figsize=(10, 7))\n",
    "plt_ind = np.arange(6) + 231\n",
    "\n",
    "for b, ind in zip(bandwidths, plt_ind):\n",
    "    kde_model = KernelDensity(kernel='gaussian', bandwidth=b)\n",
    "    kde_model.fit(x_train)\n",
    "    score = kde_model.score_samples(x_test)\n",
    "    plt.subplot(ind)\n",
    "    plt.fill(x_test, np.exp(score), c='cyan')\n",
    "    plt.title(\"h=\"+str(b))\n",
    "\n",
    "fig.subplots_adjust(hspace=0.5, wspace=.3)\n",
    "plt.show()"
   ]
  },
  {
   "cell_type": "code",
   "execution_count": null,
   "metadata": {
    "pycharm": {
     "name": "#%%\n"
    }
   },
   "outputs": [],
   "source": [
    "bandwidth = np.arange(0.05, 2, .05)\n",
    "kde = KernelDensity(kernel='gaussian')\n",
    "grid = GridSearchCV(kde, {'bandwidth': bandwidth})\n",
    "grid.fit(x_train)"
   ]
  },
  {
   "cell_type": "code",
   "execution_count": null,
   "metadata": {
    "pycharm": {
     "name": "#%%\n"
    }
   },
   "outputs": [],
   "source": [
    "kde = grid.best_estimator_\n",
    "log_dens = kde.score_samples(x_test)\n",
    "plt.fill(x_test, np.exp(log_dens), c='green')\n",
    "plt.title('Optimal estimate with Gaussian kernel')\n",
    "plt.show()\n",
    "print(\"optimal bandwidth: \" + \"{:.2f}\".format(kde.bandwidth))"
   ]
  },
  {
   "cell_type": "code",
   "execution_count": null,
   "metadata": {
    "pycharm": {
     "name": "#%%\n"
    }
   },
   "outputs": [],
   "source": [
    "grid.best_estimator_"
   ]
  },
  {
   "cell_type": "code",
   "execution_count": null,
   "metadata": {
    "pycharm": {
     "name": "#%%\n"
    }
   },
   "outputs": [],
   "source": []
  }
 ],
 "metadata": {
  "kernelspec": {
   "display_name": "Python 3",
   "language": "python",
   "name": "python3"
  },
  "language_info": {
   "codemirror_mode": {
    "name": "ipython",
    "version": 3
   },
   "file_extension": ".py",
   "mimetype": "text/x-python",
   "name": "python",
   "nbconvert_exporter": "python",
   "pygments_lexer": "ipython3",
   "version": "3.6.7"
  }
 },
 "nbformat": 4,
 "nbformat_minor": 4
}
