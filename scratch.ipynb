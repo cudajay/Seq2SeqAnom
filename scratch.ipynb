{
 "cells": [
  {
   "cell_type": "code",
   "execution_count": 61,
   "outputs": [],
   "source": [
    "from tensorflow import keras\n",
    "from sklearn.preprocessing import StandardScaler\n",
    "import numpy as np\n",
    "import pandas as pd\n",
    "import tensorflow as tf\n",
    "\n",
    "np.random.seed(12)\n",
    "tf.random.set_seed(12)\n",
    "\n",
    "from keras.models import Sequential\n",
    "from keras.layers import Dense, LSTM, Dropout, RepeatVector, TimeDistributed, Reshape\n",
    "import matplotlib.pyplot as plt\n",
    "import plotly.graph_objects as go"
   ],
   "metadata": {
    "collapsed": false,
    "pycharm": {
     "name": "#%%\n"
    }
   }
  },
  {
   "cell_type": "code",
   "execution_count": 2,
   "metadata": {
    "collapsed": true,
    "pycharm": {
     "name": "#%%\n"
    }
   },
   "outputs": [],
   "source": [
    "import DataStore\n",
    "\n",
    "ds = DataStore.DataStore(\"data\", 5)"
   ]
  },
  {
   "cell_type": "code",
   "execution_count": 3,
   "outputs": [
    {
     "data": {
      "text/plain": "2874"
     },
     "execution_count": 3,
     "metadata": {},
     "output_type": "execute_result"
    }
   ],
   "source": [
    "ds.trainData['A-1'].shuffle()\n",
    "len(ds.trainData['A-1'].x)"
   ],
   "metadata": {
    "collapsed": false,
    "pycharm": {
     "name": "#%%\n"
    }
   }
  },
  {
   "cell_type": "code",
   "execution_count": 4,
   "outputs": [],
   "source": [
    "X_train = ds.trainData['A-1'].x\n",
    "Y_train = ds.trainData['A-1'].y"
   ],
   "metadata": {
    "collapsed": false,
    "pycharm": {
     "name": "#%%\n"
    }
   }
  },
  {
   "cell_type": "code",
   "execution_count": 15,
   "outputs": [
    {
     "data": {
      "text/plain": "(2874, 5, 25)"
     },
     "execution_count": 15,
     "metadata": {},
     "output_type": "execute_result"
    }
   ],
   "source": [
    "X_train.shape"
   ],
   "metadata": {
    "collapsed": false,
    "pycharm": {
     "name": "#%%\n"
    }
   }
  },
  {
   "cell_type": "code",
   "execution_count": 14,
   "outputs": [
    {
     "data": {
      "text/plain": "(25,)"
     },
     "execution_count": 14,
     "metadata": {},
     "output_type": "execute_result"
    }
   ],
   "source": [
    "Y_train[0].shape"
   ],
   "metadata": {
    "collapsed": false,
    "pycharm": {
     "name": "#%%\n"
    }
   }
  },
  {
   "cell_type": "code",
   "execution_count": 80,
   "outputs": [
    {
     "name": "stdout",
     "output_type": "stream",
     "text": [
      "Model: \"sequential_35\"\n",
      "_________________________________________________________________\n",
      " Layer (type)                Output Shape              Param #   \n",
      "=================================================================\n",
      " lstm_68 (LSTM)              (None, 64)                23040     \n",
      "                                                                 \n",
      " dropout_68 (Dropout)        (None, 64)                0         \n",
      "                                                                 \n",
      " repeat_vector_34 (RepeatVec  (None, 5, 64)            0         \n",
      " tor)                                                            \n",
      "                                                                 \n",
      " lstm_69 (LSTM)              (None, 5, 64)             33024     \n",
      "                                                                 \n",
      " dropout_69 (Dropout)        (None, 5, 64)             0         \n",
      "                                                                 \n",
      " time_distributed_32 (TimeDi  (None, 5, 25)            1625      \n",
      " stributed)                                                      \n",
      "                                                                 \n",
      " cropping1d_1 (Cropping1D)   (None, 1, 25)             0         \n",
      "                                                                 \n",
      "=================================================================\n",
      "Total params: 57,689\n",
      "Trainable params: 57,689\n",
      "Non-trainable params: 0\n",
      "_________________________________________________________________\n"
     ]
    }
   ],
   "source": [
    "model = Sequential()\n",
    "model.add(LSTM(64, input_shape=(X_train.shape[1], X_train.shape[2])))\n",
    "model.add(Dropout(rate=0.2))\n",
    "model.add(RepeatVector(X_train.shape[1]))\n",
    "model.add(LSTM(64, return_sequences=True))\n",
    "model.add(Dropout(rate=0.2))\n",
    "model.add(TimeDistributed(Dense(X_train.shape[2])))\n",
    "model.add(tf.keras.layers.Cropping1D(cropping=2))\n",
    "model.compile(optimizer='adam', loss='mae')\n",
    "model.summary()"
   ],
   "metadata": {
    "collapsed": false,
    "pycharm": {
     "name": "#%%\n"
    }
   }
  },
  {
   "cell_type": "code",
   "execution_count": 81,
   "outputs": [
    {
     "name": "stdout",
     "output_type": "stream",
     "text": [
      "Epoch 1/25\n",
      "2299/2299 [==============================] - 9s 3ms/step - loss: 0.0304 - val_loss: 0.0191\n",
      "Epoch 2/25\n",
      "2299/2299 [==============================] - 7s 3ms/step - loss: 0.0184 - val_loss: 0.0160\n",
      "Epoch 3/25\n",
      "2299/2299 [==============================] - 7s 3ms/step - loss: 0.0165 - val_loss: 0.0150\n",
      "Epoch 4/25\n",
      "2299/2299 [==============================] - 7s 3ms/step - loss: 0.0160 - val_loss: 0.0147\n",
      "Epoch 5/25\n",
      "2299/2299 [==============================] - 7s 3ms/step - loss: 0.0151 - val_loss: 0.0146\n",
      "Epoch 6/25\n",
      "2299/2299 [==============================] - 7s 3ms/step - loss: 0.0151 - val_loss: 0.0150\n",
      "Epoch 7/25\n",
      "2299/2299 [==============================] - 7s 3ms/step - loss: 0.0145 - val_loss: 0.0149\n",
      "Epoch 8/25\n",
      "2299/2299 [==============================] - 7s 3ms/step - loss: 0.0141 - val_loss: 0.0142\n",
      "Epoch 9/25\n",
      "2299/2299 [==============================] - 7s 3ms/step - loss: 0.0141 - val_loss: 0.0141\n",
      "Epoch 10/25\n",
      "2299/2299 [==============================] - 7s 3ms/step - loss: 0.0138 - val_loss: 0.0141\n",
      "Epoch 11/25\n",
      "2299/2299 [==============================] - 7s 3ms/step - loss: 0.0137 - val_loss: 0.0140\n",
      "Epoch 12/25\n",
      "2299/2299 [==============================] - 8s 3ms/step - loss: 0.0136 - val_loss: 0.0139\n",
      "Epoch 13/25\n",
      "2299/2299 [==============================] - 7s 3ms/step - loss: 0.0135 - val_loss: 0.0140\n",
      "Epoch 14/25\n",
      "2299/2299 [==============================] - 7s 3ms/step - loss: 0.0134 - val_loss: 0.0139\n",
      "Epoch 15/25\n",
      "2299/2299 [==============================] - 7s 3ms/step - loss: 0.0132 - val_loss: 0.0133\n",
      "Epoch 16/25\n",
      "2299/2299 [==============================] - 7s 3ms/step - loss: 0.0132 - val_loss: 0.0132\n",
      "Epoch 17/25\n",
      "2299/2299 [==============================] - 7s 3ms/step - loss: 0.0131 - val_loss: 0.0133\n",
      "Epoch 18/25\n",
      "2299/2299 [==============================] - 7s 3ms/step - loss: 0.0131 - val_loss: 0.0133\n",
      "Epoch 19/25\n",
      "2299/2299 [==============================] - 7s 3ms/step - loss: 0.0131 - val_loss: 0.0132\n",
      "Epoch 20/25\n",
      "2299/2299 [==============================] - 7s 3ms/step - loss: 0.0131 - val_loss: 0.0134\n",
      "Epoch 21/25\n",
      "2299/2299 [==============================] - 7s 3ms/step - loss: 0.0130 - val_loss: 0.0137\n",
      "Epoch 22/25\n",
      "2299/2299 [==============================] - 7s 3ms/step - loss: 0.0130 - val_loss: 0.0135\n",
      "Epoch 23/25\n",
      "2299/2299 [==============================] - 7s 3ms/step - loss: 0.0130 - val_loss: 0.0133\n",
      "Epoch 24/25\n",
      "2299/2299 [==============================] - 6s 3ms/step - loss: 0.0130 - val_loss: 0.0130\n",
      "Epoch 25/25\n",
      "2299/2299 [==============================] - 6s 3ms/step - loss: 0.0129 - val_loss: 0.0131\n"
     ]
    }
   ],
   "source": [
    "history = model.fit(X_train, Y_train, epochs=25, batch_size=1, validation_split=0.2,\n",
    "                    callbacks=[keras.callbacks.EarlyStopping(monitor='val_loss', patience=50, mode='min')], shuffle=False)"
   ],
   "metadata": {
    "collapsed": false,
    "pycharm": {
     "name": "#%%\n"
    }
   }
  },
  {
   "cell_type": "code",
   "execution_count": 82,
   "outputs": [
    {
     "data": {
      "text/plain": "<Figure size 640x480 with 1 Axes>",
      "image/png": "[encoded data removed]"
     },
     "metadata": {},
     "output_type": "display_data"
    }
   ],
   "source": [
    "plt.plot(history.history['loss'], label='Training loss')\n",
    "plt.plot(history.history['val_loss'], label='Validation loss')\n",
    "plt.legend();"
   ],
   "metadata": {
    "collapsed": false,
    "pycharm": {
     "name": "#%%\n"
    }
   }
  },
  {
   "cell_type": "code",
   "execution_count": 33,
   "outputs": [
    {
     "data": {
      "text/plain": "array([[0.999, 0.   , 0.   , 0.   , 0.   , 0.   , 0.   , 0.   , 0.   ,\n        0.   , 0.   , 0.   , 0.   , 0.   , 0.   , 0.   , 0.   , 0.   ,\n        0.   , 0.   , 0.   , 0.   , 0.   , 0.   , 0.   ],\n       [0.999, 0.   , 0.   , 0.   , 0.   , 0.   , 0.   , 0.   , 0.   ,\n        0.   , 0.   , 0.   , 0.   , 0.   , 0.   , 0.   , 0.   , 0.   ,\n        0.   , 0.   , 0.   , 0.   , 0.   , 0.   , 0.   ],\n       [0.999, 0.   , 0.   , 0.   , 0.   , 0.   , 0.   , 0.   , 0.   ,\n        0.   , 0.   , 0.   , 0.   , 0.   , 0.   , 0.   , 0.   , 0.   ,\n        0.   , 0.   , 0.   , 0.   , 0.   , 0.   , 0.   ],\n       [0.999, 0.   , 0.   , 0.   , 0.   , 0.   , 0.   , 0.   , 0.   ,\n        0.   , 0.   , 0.   , 0.   , 0.   , 0.   , 0.   , 0.   , 0.   ,\n        0.   , 0.   , 0.   , 0.   , 0.   , 0.   , 0.   ],\n       [0.999, 0.   , 0.   , 0.   , 0.   , 0.   , 0.   , 0.   , 0.   ,\n        0.   , 0.   , 0.   , 0.   , 0.   , 0.   , 0.   , 0.   , 0.   ,\n        0.   , 0.   , 0.   , 0.   , 0.   , 0.   , 0.   ]])"
     },
     "execution_count": 33,
     "metadata": {},
     "output_type": "execute_result"
    }
   ],
   "source": [
    "X_train[0]"
   ],
   "metadata": {
    "collapsed": false,
    "pycharm": {
     "name": "#%%\n"
    }
   }
  },
  {
   "cell_type": "code",
   "execution_count": 34,
   "outputs": [
    {
     "data": {
      "text/plain": "array([0.999, 1.   , 0.   , 1.   , 0.   , 1.   , 0.   , 0.   , 0.   ,\n       0.   , 0.   , 0.   , 0.   , 0.   , 0.   , 0.   , 0.   , 0.   ,\n       0.   , 1.   , 0.   , 0.   , 0.   , 0.   , 0.   ])"
     },
     "execution_count": 34,
     "metadata": {},
     "output_type": "execute_result"
    }
   ],
   "source": [
    "Y_train[0]"
   ],
   "metadata": {
    "collapsed": false,
    "pycharm": {
     "name": "#%%\n"
    }
   }
  },
  {
   "cell_type": "code",
   "execution_count": 83,
   "outputs": [
    {
     "name": "stdout",
     "output_type": "stream",
     "text": [
      "90/90 [==============================] - 1s 2ms/step\n"
     ]
    }
   ],
   "source": [
    "X_train_pred = model.predict(X_train, verbose=1)"
   ],
   "metadata": {
    "collapsed": false,
    "pycharm": {
     "name": "#%%\n"
    }
   }
  },
  {
   "cell_type": "code",
   "execution_count": 84,
   "outputs": [
    {
     "data": {
      "text/plain": "array([[ 9.9860448e-01, -2.3492915e-04, -4.7763584e-05, -2.6586550e-04,\n         2.0411733e-04,  1.7765150e-03,  1.7505013e-04, -2.2148446e-04,\n        -2.5317489e-04, -1.0624896e-04,  3.2701682e-05,  4.5945621e-05,\n        -4.3974145e-05, -3.6656685e-04,  2.0801292e-04, -3.0440878e-04,\n        -1.5865662e-05, -1.5860736e-04,  3.0441288e-04,  1.3508144e-04,\n         3.6879352e-04, -1.5078802e-04, -2.5605957e-05, -1.9803467e-04,\n         2.1783095e-04]], dtype=float32)"
     },
     "execution_count": 84,
     "metadata": {},
     "output_type": "execute_result"
    }
   ],
   "source": [
    "X_train_pred[0]"
   ],
   "metadata": {
    "collapsed": false,
    "pycharm": {
     "name": "#%%\n"
    }
   }
  },
  {
   "cell_type": "code",
   "execution_count": 85,
   "outputs": [
    {
     "data": {
      "text/plain": "array([[0.999, 0.   , 0.   , 0.   , 0.   , 0.   , 0.   , 0.   , 0.   ,\n        0.   , 0.   , 0.   , 0.   , 0.   , 0.   , 0.   , 0.   , 0.   ,\n        0.   , 0.   , 0.   , 0.   , 0.   , 0.   , 0.   ],\n       [0.999, 0.   , 0.   , 0.   , 0.   , 0.   , 0.   , 0.   , 0.   ,\n        0.   , 0.   , 0.   , 0.   , 0.   , 0.   , 0.   , 0.   , 0.   ,\n        0.   , 0.   , 0.   , 0.   , 0.   , 0.   , 0.   ],\n       [0.999, 0.   , 0.   , 0.   , 0.   , 0.   , 0.   , 0.   , 0.   ,\n        0.   , 0.   , 0.   , 0.   , 0.   , 0.   , 0.   , 0.   , 0.   ,\n        0.   , 0.   , 0.   , 0.   , 0.   , 0.   , 0.   ],\n       [0.999, 0.   , 0.   , 0.   , 0.   , 0.   , 0.   , 0.   , 0.   ,\n        0.   , 0.   , 0.   , 0.   , 0.   , 0.   , 0.   , 0.   , 0.   ,\n        0.   , 0.   , 0.   , 0.   , 0.   , 0.   , 0.   ],\n       [0.999, 0.   , 0.   , 0.   , 0.   , 0.   , 0.   , 0.   , 0.   ,\n        0.   , 0.   , 0.   , 0.   , 0.   , 0.   , 0.   , 0.   , 0.   ,\n        0.   , 0.   , 0.   , 0.   , 0.   , 0.   , 0.   ]])"
     },
     "execution_count": 85,
     "metadata": {},
     "output_type": "execute_result"
    }
   ],
   "source": [
    "X_train[0]"
   ],
   "metadata": {
    "collapsed": false,
    "pycharm": {
     "name": "#%%\n"
    }
   }
  },
  {
   "cell_type": "code",
   "execution_count": 89,
   "outputs": [
    {
     "data": {
      "text/plain": "array([[3.95523548e-04, 1.00023493e+00, 4.77635840e-05, 1.00026587e+00,\n        2.04117328e-04, 9.98223485e-01, 1.75050125e-04, 2.21484457e-04,\n        2.53174891e-04, 1.06248961e-04, 3.27016824e-05, 4.59456205e-05,\n        4.39741452e-05, 3.66566848e-04, 2.08012920e-04, 3.04408779e-04,\n        1.58656621e-05, 1.58607363e-04, 3.04412883e-04, 9.99864919e-01,\n        3.68793524e-04, 1.50788022e-04, 2.56059575e-05, 1.98034671e-04,\n        2.17830951e-04]])"
     },
     "execution_count": 89,
     "metadata": {},
     "output_type": "execute_result"
    }
   ],
   "source": [
    "np.abs(X_train_pred[0] - Y_train[0])"
   ],
   "metadata": {
    "collapsed": false,
    "pycharm": {
     "name": "#%%\n"
    }
   }
  },
  {
   "cell_type": "code",
   "execution_count": 88,
   "outputs": [
    {
     "data": {
      "text/plain": "array([0.999, 1.   , 0.   , 1.   , 0.   , 1.   , 0.   , 0.   , 0.   ,\n       0.   , 0.   , 0.   , 0.   , 0.   , 0.   , 0.   , 0.   , 0.   ,\n       0.   , 1.   , 0.   , 0.   , 0.   , 0.   , 0.   ])"
     },
     "execution_count": 88,
     "metadata": {},
     "output_type": "execute_result"
    }
   ],
   "source": [
    "np.transpose(Y_train[0])"
   ],
   "metadata": {
    "collapsed": false,
    "pycharm": {
     "name": "#%%\n"
    }
   }
  },
  {
   "cell_type": "code",
   "execution_count": 90,
   "outputs": [
    {
     "data": {
      "text/plain": "array([[ 9.9860448e-01, -2.3492915e-04, -4.7763584e-05, -2.6586550e-04,\n         2.0411733e-04,  1.7765150e-03,  1.7505013e-04, -2.2148446e-04,\n        -2.5317489e-04, -1.0624896e-04,  3.2701682e-05,  4.5945621e-05,\n        -4.3974145e-05, -3.6656685e-04,  2.0801292e-04, -3.0440878e-04,\n        -1.5865662e-05, -1.5860736e-04,  3.0441288e-04,  1.3508144e-04,\n         3.6879352e-04, -1.5078802e-04, -2.5605957e-05, -1.9803467e-04,\n         2.1783095e-04]], dtype=float32)"
     },
     "execution_count": 90,
     "metadata": {},
     "output_type": "execute_result"
    }
   ],
   "source": [
    "X_train_pred[0]"
   ],
   "metadata": {
    "collapsed": false,
    "pycharm": {
     "name": "#%%\n"
    }
   }
  },
  {
   "cell_type": "code",
   "execution_count": null,
   "outputs": [],
   "source": [
    "import matplotlib.pyplot as plt\n",
    "import numpy as np"
   ],
   "metadata": {
    "collapsed": false,
    "pycharm": {
     "name": "#%%\n"
    }
   }
  },
  {
   "cell_type": "code",
   "execution_count": null,
   "outputs": [],
   "source": [
    "plt.plot(ds.trainData['A-1'].y[81])"
   ],
   "metadata": {
    "collapsed": false,
    "pycharm": {
     "name": "#%%\n"
    }
   }
  },
  {
   "cell_type": "code",
   "execution_count": null,
   "outputs": [],
   "source": [
    "import pandas as pd\n",
    "import os"
   ],
   "metadata": {
    "collapsed": false,
    "pycharm": {
     "name": "#%%\n"
    }
   }
  },
  {
   "cell_type": "code",
   "execution_count": null,
   "outputs": [],
   "source": [
    "lbls = pd.read_csv(os.path.join(\"data\", \"labeled_anomalies.csv\"))"
   ],
   "metadata": {
    "collapsed": false,
    "pycharm": {
     "name": "#%%\n"
    }
   }
  },
  {
   "cell_type": "code",
   "execution_count": null,
   "outputs": [],
   "source": [
    "labels_dict = {}\n",
    "for rw in lbls.iterrows():\n",
    "    labels_dict[rw[1]['chan_id']] = str2ary(rw[1]['anomaly_sequences'])"
   ],
   "metadata": {
    "collapsed": false,
    "pycharm": {
     "name": "#%%\n"
    }
   }
  },
  {
   "cell_type": "code",
   "execution_count": null,
   "outputs": [],
   "source": [
    "def str2ary(str_):\n",
    "    x = str_.replace(\"]\",\"\").replace(\"[\",\"\")\n",
    "    x = x.split(\",\")\n",
    "    assert(not len(x)%2)\n",
    "    lst = []\n",
    "    for i in range(0, len(x), 2):\n",
    "        tmp  = range(int(x[i]), int(x[i+1]))\n",
    "        lst.append(tmp)\n",
    "    return lst"
   ],
   "metadata": {
    "collapsed": false,
    "pycharm": {
     "name": "#%%\n"
    }
   }
  },
  {
   "cell_type": "code",
   "execution_count": null,
   "outputs": [],
   "source": [
    "x = \"[[2149, 2349], [4536, 4844], [3539, 3779]]\"\n",
    "rs = str2ary(x)"
   ],
   "metadata": {
    "collapsed": false,
    "pycharm": {
     "name": "#%%\n"
    }
   }
  },
  {
   "cell_type": "code",
   "execution_count": null,
   "outputs": [],
   "source": [
    "2155 in rs"
   ],
   "metadata": {
    "collapsed": false,
    "pycharm": {
     "name": "#%%\n"
    }
   }
  },
  {
   "cell_type": "code",
   "execution_count": null,
   "outputs": [],
   "source": [
    "import numpy as np\n",
    "import matplotlib.pyplot as plt\n",
    "from sklearn.neighbors import KernelDensity\n",
    "from sklearn.model_selection import GridSearchCV"
   ],
   "metadata": {
    "collapsed": false,
    "pycharm": {
     "name": "#%%\n"
    }
   }
  },
  {
   "cell_type": "code",
   "execution_count": null,
   "outputs": [],
   "source": [
    "def generate_data(seed=17):\n",
    "    # Fix the seed to reproduce the results\n",
    "    rand = np.random.RandomState(seed)\n",
    "    x = []\n",
    "    dat = rand.lognormal(0, 0.3, 1000)\n",
    "    x = np.concatenate((x, dat))\n",
    "    dat = rand.normal(3, 1, 1000)\n",
    "    x = np.concatenate((x, dat))\n",
    "    return x"
   ],
   "metadata": {
    "collapsed": false,
    "pycharm": {
     "name": "#%%\n"
    }
   }
  },
  {
   "cell_type": "code",
   "execution_count": null,
   "outputs": [],
   "source": [
    "x = generate_data()"
   ],
   "metadata": {
    "collapsed": false,
    "pycharm": {
     "name": "#%%\n"
    }
   }
  },
  {
   "cell_type": "code",
   "execution_count": null,
   "outputs": [],
   "source": [
    "x.shape"
   ],
   "metadata": {
    "collapsed": false,
    "pycharm": {
     "name": "#%%\n"
    }
   }
  },
  {
   "cell_type": "code",
   "execution_count": null,
   "outputs": [],
   "source": [
    "x[0]"
   ],
   "metadata": {
    "collapsed": false,
    "pycharm": {
     "name": "#%%\n"
    }
   }
  },
  {
   "cell_type": "code",
   "execution_count": null,
   "outputs": [],
   "source": [
    "plt.plot(x)"
   ],
   "metadata": {
    "collapsed": false,
    "pycharm": {
     "name": "#%%\n"
    }
   }
  },
  {
   "cell_type": "code",
   "execution_count": null,
   "outputs": [],
   "source": [
    "x_train = generate_data()[:, np.newaxis]\n",
    "fig, ax = plt.subplots(nrows=1, ncols=2, figsize=(10, 5))\n",
    "plt.subplot(121)\n",
    "plt.scatter(np.arange(len(x_train)), x_train, c='red')\n",
    "plt.xlabel('Sample no.')\n",
    "plt.ylabel('Value')\n",
    "plt.title('Scatter plot')\n",
    "plt.subplot(122)\n",
    "plt.hist(x_train, bins=50)\n",
    "plt.title('Histogram')\n",
    "fig.subplots_adjust(wspace=.3)\n",
    "plt.show()"
   ],
   "metadata": {
    "collapsed": false,
    "pycharm": {
     "name": "#%%\n"
    }
   }
  },
  {
   "cell_type": "code",
   "execution_count": null,
   "outputs": [],
   "source": [
    "x_test = np.linspace(-1, 7, 2000)[:, np.newaxis]"
   ],
   "metadata": {
    "collapsed": false,
    "pycharm": {
     "name": "#%%\n"
    }
   }
  },
  {
   "cell_type": "code",
   "execution_count": null,
   "outputs": [],
   "source": [
    "x_test.shape"
   ],
   "metadata": {
    "collapsed": false,
    "pycharm": {
     "name": "#%%\n"
    }
   }
  },
  {
   "cell_type": "code",
   "execution_count": null,
   "outputs": [],
   "source": [
    "x.shape"
   ],
   "metadata": {
    "collapsed": false,
    "pycharm": {
     "name": "#%%\n"
    }
   }
  },
  {
   "cell_type": "code",
   "execution_count": null,
   "outputs": [],
   "source": [
    "model = KernelDensity()\n",
    "model.fit(x_train)\n",
    "log_dens = model.score_samples(x_test)"
   ],
   "metadata": {
    "collapsed": false,
    "pycharm": {
     "name": "#%%\n"
    }
   }
  },
  {
   "cell_type": "code",
   "execution_count": null,
   "outputs": [],
   "source": [
    "log_dens"
   ],
   "metadata": {
    "collapsed": false,
    "pycharm": {
     "name": "#%%\n"
    }
   }
  },
  {
   "cell_type": "code",
   "execution_count": null,
   "outputs": [],
   "source": [
    "plt.plot(log_dens)"
   ],
   "metadata": {
    "collapsed": false,
    "pycharm": {
     "name": "#%%\n"
    }
   }
  },
  {
   "cell_type": "code",
   "execution_count": null,
   "outputs": [],
   "source": [
    "plt.fill(x_test, np.exp(log_dens), c='cyan')\n",
    "plt.show()"
   ],
   "metadata": {
    "collapsed": false,
    "pycharm": {
     "name": "#%%\n"
    }
   }
  },
  {
   "cell_type": "code",
   "execution_count": null,
   "outputs": [],
   "source": [
    "x_train.shape"
   ],
   "metadata": {
    "collapsed": false,
    "pycharm": {
     "name": "#%%\n"
    }
   }
  },
  {
   "cell_type": "code",
   "execution_count": null,
   "outputs": [],
   "source": [
    "bandwidths = [0.01, 0.05, 0.1, 0.5, 1, 4]\n",
    "fig, ax = plt.subplots(nrows=2, ncols=3, figsize=(10, 7))\n",
    "plt_ind = np.arange(6) + 231\n",
    "\n",
    "for b, ind in zip(bandwidths, plt_ind):\n",
    "    kde_model = KernelDensity(kernel='gaussian', bandwidth=b)\n",
    "    kde_model.fit(x_train)\n",
    "    score = kde_model.score_samples(x_test)\n",
    "    plt.subplot(ind)\n",
    "    plt.fill(x_test, np.exp(score), c='cyan')\n",
    "    plt.title(\"h=\"+str(b))\n",
    "\n",
    "fig.subplots_adjust(hspace=0.5, wspace=.3)\n",
    "plt.show()"
   ],
   "metadata": {
    "collapsed": false,
    "pycharm": {
     "name": "#%%\n"
    }
   }
  },
  {
   "cell_type": "code",
   "execution_count": null,
   "outputs": [],
   "source": [
    "bandwidth = np.arange(0.05, 2, .05)\n",
    "kde = KernelDensity(kernel='gaussian')\n",
    "grid = GridSearchCV(kde, {'bandwidth': bandwidth})\n",
    "grid.fit(x_train)"
   ],
   "metadata": {
    "collapsed": false,
    "pycharm": {
     "name": "#%%\n"
    }
   }
  },
  {
   "cell_type": "code",
   "execution_count": null,
   "outputs": [],
   "source": [
    "kde = grid.best_estimator_\n",
    "log_dens = kde.score_samples(x_test)\n",
    "plt.fill(x_test, np.exp(log_dens), c='green')\n",
    "plt.title('Optimal estimate with Gaussian kernel')\n",
    "plt.show()\n",
    "print(\"optimal bandwidth: \" + \"{:.2f}\".format(kde.bandwidth))"
   ],
   "metadata": {
    "collapsed": false,
    "pycharm": {
     "name": "#%%\n"
    }
   }
  },
  {
   "cell_type": "code",
   "execution_count": null,
   "outputs": [],
   "source": [
    "grid.best_estimator_"
   ],
   "metadata": {
    "collapsed": false,
    "pycharm": {
     "name": "#%%\n"
    }
   }
  },
  {
   "cell_type": "code",
   "execution_count": null,
   "outputs": [],
   "source": [],
   "metadata": {
    "collapsed": false,
    "pycharm": {
     "name": "#%%\n"
    }
   }
  }
 ],
 "metadata": {
  "kernelspec": {
   "display_name": "Python 3",
   "language": "python",
   "name": "python3"
  },
  "language_info": {
   "codemirror_mode": {
    "name": "ipython",
    "version": 2
   },
   "file_extension": ".py",
   "mimetype": "text/x-python",
   "name": "python",
   "nbconvert_exporter": "python",
   "pygments_lexer": "ipython2",
   "version": "2.7.6"
  }
 },
 "nbformat": 4,
 "nbformat_minor": 0
}