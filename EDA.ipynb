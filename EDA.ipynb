{
 "cells": [
  {
   "cell_type": "code",
   "execution_count": 90,
   "metadata": {
    "collapsed": true,
    "pycharm": {
     "name": "#%%\n"
    }
   },
   "outputs": [],
   "source": [
    "import os\n",
    "import numpy as np\n",
    "import pandas as pd\n",
    "import tensorflow as tf\n",
    "import glob\n",
    "import matplotlib.pyplot as plt"
   ]
  },
  {
   "cell_type": "code",
   "execution_count": 34,
   "outputs": [
    {
     "name": "stdout",
     "output_type": "stream",
     "text": [
      "[(2149, 2349), (4536, 4844), (3539, 3779)]\n"
     ]
    }
   ],
   "source": [
    "def str2ary(str_):\n",
    "    x = str_.replace(\"]\",\"\").replace(\"[\",\"\")\n",
    "    x = x.split(\",\")\n",
    "    assert(not len(x)%2)\n",
    "    lst = []\n",
    "    for i in range(0, len(x), 2):\n",
    "        tmp  = tuple([int(x[i]), int(x[i+1])])\n",
    "        lst.append(tmp)\n",
    "    print(lst)\n",
    "x = \"[[2149, 2349], [4536, 4844], [3539, 3779]]\"\n",
    "str2ary(x)"
   ],
   "metadata": {
    "collapsed": false,
    "pycharm": {
     "name": "#%%\n"
    }
   }
  },
  {
   "cell_type": "code",
   "execution_count": 53,
   "outputs": [
    {
     "data": {
      "text/plain": "  chan_id spacecraft                           anomaly_sequences  \\\n0     P-1       SMAP  [[2149, 2349], [4536, 4844], [3539, 3779]]   \n1     S-1       SMAP                              [[5300, 5747]]   \n2     E-1       SMAP                [[5000, 5030], [5610, 6086]]   \n3     E-2       SMAP                              [[5598, 6995]]   \n4     E-3       SMAP                              [[5094, 8306]]   \n\n                                  class  num_values  \n0  [contextual, contextual, contextual]        8505  \n1                               [point]        7331  \n2              [contextual, contextual]        8516  \n3                               [point]        8532  \n4                               [point]        8307  ",
      "text/html": "<div>\n<style scoped>\n    .dataframe tbody tr th:only-of-type {\n        vertical-align: middle;\n    }\n\n    .dataframe tbody tr th {\n        vertical-align: top;\n    }\n\n    .dataframe thead th {\n        text-align: right;\n    }\n</style>\n<table border=\"1\" class=\"dataframe\">\n  <thead>\n    <tr style=\"text-align: right;\">\n      <th></th>\n      <th>chan_id</th>\n      <th>spacecraft</th>\n      <th>anomaly_sequences</th>\n      <th>class</th>\n      <th>num_values</th>\n    </tr>\n  </thead>\n  <tbody>\n    <tr>\n      <th>0</th>\n      <td>P-1</td>\n      <td>SMAP</td>\n      <td>[[2149, 2349], [4536, 4844], [3539, 3779]]</td>\n      <td>[contextual, contextual, contextual]</td>\n      <td>8505</td>\n    </tr>\n    <tr>\n      <th>1</th>\n      <td>S-1</td>\n      <td>SMAP</td>\n      <td>[[5300, 5747]]</td>\n      <td>[point]</td>\n      <td>7331</td>\n    </tr>\n    <tr>\n      <th>2</th>\n      <td>E-1</td>\n      <td>SMAP</td>\n      <td>[[5000, 5030], [5610, 6086]]</td>\n      <td>[contextual, contextual]</td>\n      <td>8516</td>\n    </tr>\n    <tr>\n      <th>3</th>\n      <td>E-2</td>\n      <td>SMAP</td>\n      <td>[[5598, 6995]]</td>\n      <td>[point]</td>\n      <td>8532</td>\n    </tr>\n    <tr>\n      <th>4</th>\n      <td>E-3</td>\n      <td>SMAP</td>\n      <td>[[5094, 8306]]</td>\n      <td>[point]</td>\n      <td>8307</td>\n    </tr>\n  </tbody>\n</table>\n</div>"
     },
     "execution_count": 53,
     "metadata": {},
     "output_type": "execute_result"
    }
   ],
   "source": [
    "labels = os.path.join(\"Seq2SeqAnom\", \"data\",\"labeled_anomalies.csv\")\n",
    "lbls = pd.read_csv(labels)\n",
    "lbls.head()"
   ],
   "metadata": {
    "collapsed": false,
    "pycharm": {
     "name": "#%%\n"
    }
   }
  },
  {
   "cell_type": "code",
   "execution_count": 63,
   "outputs": [],
   "source": [
    "test_lbls =dict()\n",
    "for i in lbls.iterrows():\n",
    "    test_lbls[i[1]['chan_id']] =  i[1]['anomaly_sequences']"
   ],
   "metadata": {
    "collapsed": false,
    "pycharm": {
     "name": "#%%\n"
    }
   }
  },
  {
   "cell_type": "code",
   "execution_count": 5,
   "outputs": [
    {
     "data": {
      "text/plain": "'/Users/juanrodriguez/PycharmProjects/pythonProject1'"
     },
     "execution_count": 5,
     "metadata": {},
     "output_type": "execute_result"
    }
   ],
   "source": [
    "os.getcwd()"
   ],
   "metadata": {
    "collapsed": false,
    "pycharm": {
     "name": "#%%\n"
    }
   }
  },
  {
   "cell_type": "code",
   "execution_count": 20,
   "outputs": [],
   "source": [
    "glb = glob.glob(os.path.join(\"Seq2SeqAnom\", \"data\",\"train\",\"*\"))"
   ],
   "metadata": {
    "collapsed": false,
    "pycharm": {
     "name": "#%%\n"
    }
   }
  },
  {
   "cell_type": "code",
   "execution_count": 71,
   "outputs": [],
   "source": [
    "channels = []\n",
    "trn_data  = []\n",
    "for g in glb:\n",
    "    channels.append(g.split(\"/\")[-1])\n",
    "    trn_data.append(np.load(g))\n"
   ],
   "metadata": {
    "collapsed": false,
    "pycharm": {
     "name": "#%%\n"
    }
   }
  },
  {
   "cell_type": "code",
   "execution_count": 80,
   "outputs": [],
   "source": [
    "trn_data = np.array(trn_data, dtype=object)"
   ],
   "metadata": {
    "collapsed": false,
    "pycharm": {
     "name": "#%%\n"
    }
   }
  },
  {
   "cell_type": "code",
   "execution_count": 78,
   "outputs": [
    {
     "data": {
      "text/plain": "array([[0.45098182, 0.        , 0.        , 0.        , 0.        ,\n        0.        , 0.        , 0.        , 0.        , 0.        ,\n        0.        , 0.        , 0.        , 0.        , 0.        ,\n        0.        , 0.        , 0.        , 0.        , 0.        ,\n        0.        , 1.        , 0.        , 0.        , 0.        ],\n       [0.41176651, 0.        , 0.        , 0.        , 0.        ,\n        0.        , 0.        , 0.        , 0.        , 0.        ,\n        0.        , 0.        , 0.        , 0.        , 0.        ,\n        0.        , 0.        , 0.        , 0.        , 0.        ,\n        0.        , 0.        , 0.        , 0.        , 0.        ],\n       [0.41176651, 0.        , 0.        , 0.        , 0.        ,\n        0.        , 0.        , 0.        , 0.        , 0.        ,\n        0.        , 0.        , 0.        , 0.        , 0.        ,\n        0.        , 0.        , 0.        , 0.        , 0.        ,\n        0.        , 0.        , 0.        , 0.        , 0.        ],\n       [0.37254737, 0.        , 0.        , 0.        , 0.        ,\n        0.        , 0.        , 0.        , 0.        , 0.        ,\n        0.        , 0.        , 0.        , 0.        , 0.        ,\n        0.        , 0.        , 0.        , 0.        , 0.        ,\n        0.        , 0.        , 0.        , 0.        , 0.        ],\n       [0.33333206, 0.        , 0.        , 0.        , 0.        ,\n        0.        , 0.        , 0.        , 0.        , 0.        ,\n        0.        , 0.        , 0.        , 0.        , 0.        ,\n        0.        , 0.        , 0.        , 0.        , 0.        ,\n        0.        , 0.        , 0.        , 0.        , 0.        ],\n       [0.33333206, 0.        , 0.        , 0.        , 0.        ,\n        0.        , 0.        , 0.        , 0.        , 0.        ,\n        0.        , 0.        , 0.        , 0.        , 0.        ,\n        0.        , 0.        , 0.        , 0.        , 0.        ,\n        0.        , 0.        , 0.        , 0.        , 0.        ],\n       [0.29411675, 0.        , 0.        , 0.        , 0.        ,\n        0.        , 0.        , 0.        , 0.        , 0.        ,\n        0.        , 0.        , 0.        , 0.        , 0.        ,\n        0.        , 0.        , 0.        , 0.        , 0.        ,\n        0.        , 0.        , 0.        , 0.        , 0.        ],\n       [0.29411675, 0.        , 0.        , 0.        , 0.        ,\n        0.        , 0.        , 0.        , 0.        , 0.        ,\n        0.        , 0.        , 0.        , 0.        , 0.        ,\n        0.        , 0.        , 0.        , 0.        , 0.        ,\n        0.        , 0.        , 0.        , 0.        , 0.        ],\n       [0.25490143, 0.        , 0.        , 0.        , 0.        ,\n        0.        , 0.        , 0.        , 0.        , 0.        ,\n        0.        , 0.        , 0.        , 0.        , 0.        ,\n        0.        , 0.        , 0.        , 0.        , 0.        ,\n        0.        , 0.        , 0.        , 0.        , 0.        ],\n       [0.21568612, 0.        , 0.        , 0.        , 0.        ,\n        0.        , 0.        , 0.        , 0.        , 0.        ,\n        0.        , 0.        , 0.        , 0.        , 0.        ,\n        0.        , 0.        , 0.        , 0.        , 0.        ,\n        0.        , 0.        , 0.        , 0.        , 0.        ]])"
     },
     "execution_count": 78,
     "metadata": {},
     "output_type": "execute_result"
    }
   ],
   "source": [
    "trn_data[0][0:10]"
   ],
   "metadata": {
    "collapsed": false,
    "pycharm": {
     "name": "#%%\n"
    }
   }
  },
  {
   "cell_type": "code",
   "execution_count": 87,
   "outputs": [
    {
     "data": {
      "text/plain": "[<matplotlib.lines.Line2D at 0x1292e6ac0>,\n <matplotlib.lines.Line2D at 0x1292e6b20>,\n <matplotlib.lines.Line2D at 0x1292e6c40>,\n <matplotlib.lines.Line2D at 0x1292e6d60>,\n <matplotlib.lines.Line2D at 0x1292e6e80>,\n <matplotlib.lines.Line2D at 0x1292e6fa0>,\n <matplotlib.lines.Line2D at 0x1292f1100>,\n <matplotlib.lines.Line2D at 0x1292f1220>,\n <matplotlib.lines.Line2D at 0x1292f1340>,\n <matplotlib.lines.Line2D at 0x1292f1460>,\n <matplotlib.lines.Line2D at 0x1292e6af0>,\n <matplotlib.lines.Line2D at 0x1292f1580>,\n <matplotlib.lines.Line2D at 0x1292f1790>,\n <matplotlib.lines.Line2D at 0x1292f18b0>,\n <matplotlib.lines.Line2D at 0x1292f19d0>,\n <matplotlib.lines.Line2D at 0x1292f1af0>,\n <matplotlib.lines.Line2D at 0x1292f1c10>,\n <matplotlib.lines.Line2D at 0x1292f1d30>,\n <matplotlib.lines.Line2D at 0x1292f1e50>,\n <matplotlib.lines.Line2D at 0x1292f1f70>,\n <matplotlib.lines.Line2D at 0x1292f80d0>,\n <matplotlib.lines.Line2D at 0x1292f81f0>,\n <matplotlib.lines.Line2D at 0x1292f8310>,\n <matplotlib.lines.Line2D at 0x1292f8430>,\n <matplotlib.lines.Line2D at 0x1292f8550>]"
     },
     "execution_count": 87,
     "metadata": {},
     "output_type": "execute_result"
    },
    {
     "data": {
      "text/plain": "<Figure size 640x480 with 1 Axes>",
      "image/png": "[encoded data removed]"
     },
     "metadata": {},
     "output_type": "display_data"
    }
   ],
   "source": [
    "plt.plot(trn_data[1][0:-1])"
   ],
   "metadata": {
    "collapsed": false,
    "pycharm": {
     "name": "#%%\n"
    }
   }
  },
  {
   "cell_type": "code",
   "execution_count": 95,
   "outputs": [],
   "source": [
    "sample = trn_data[1]"
   ],
   "metadata": {
    "collapsed": false,
    "pycharm": {
     "name": "#%%\n"
    }
   }
  },
  {
   "cell_type": "code",
   "execution_count": 220,
   "outputs": [],
   "source": [
    "X_trn = []\n",
    "Y_trn = []\n",
    "for i in range(0,sample.shape[0], 9):\n",
    "    if i+10 > sample.shape[0]:\n",
    "        break\n",
    "    X_trn.append(sample[i:i+9, :].reshape((25,9)))\n",
    "    Y_trn.append(sample[i+10].reshape((25,1)))\n"
   ],
   "metadata": {
    "collapsed": false,
    "pycharm": {
     "name": "#%%\n"
    }
   }
  },
  {
   "cell_type": "code",
   "execution_count": 216,
   "outputs": [
    {
     "data": {
      "text/plain": "array([[-0.87841018,  0.        ,  0.        ,  0.        ,  0.        ,\n         1.        ,  1.        ,  0.        ,  0.        ,  0.        ,\n         0.        ,  0.        ,  0.        ,  0.        ,  0.        ,\n         0.        ,  0.        ,  0.        ,  0.        ,  0.        ,\n         0.        ,  0.        ,  0.        ,  0.        ,  0.        ]])"
     },
     "execution_count": 216,
     "metadata": {},
     "output_type": "execute_result"
    }
   ],
   "source": [
    "Y_trn[0]"
   ],
   "metadata": {
    "collapsed": false,
    "pycharm": {
     "name": "#%%\n"
    }
   }
  },
  {
   "cell_type": "code",
   "execution_count": 224,
   "outputs": [
    {
     "data": {
      "text/plain": "TensorShape([319, 25, 9])"
     },
     "execution_count": 224,
     "metadata": {},
     "output_type": "execute_result"
    }
   ],
   "source": [
    "X_trn = tf.constant(X_trn)\n",
    "Y_trn = tf.constant(Y_trn)\n",
    "X_trn.shape"
   ],
   "metadata": {
    "collapsed": false,
    "pycharm": {
     "name": "#%%\n"
    }
   }
  },
  {
   "cell_type": "code",
   "execution_count": 262,
   "outputs": [],
   "source": [
    "nb_epoch = 200\n",
    "batch_size = 64\n",
    "input_dim = sample.shape[1] #num of columns, 30\n",
    "encoding_dim = 14\n",
    "hidden_dim_1 = int(encoding_dim / 2) #\n",
    "hidden_dim_2=4\n",
    "learning_rate = 1e-5"
   ],
   "metadata": {
    "collapsed": false,
    "pycharm": {
     "name": "#%%\n"
    }
   }
  },
  {
   "cell_type": "code",
   "execution_count": 263,
   "outputs": [
    {
     "name": "stdout",
     "output_type": "stream",
     "text": [
      "Model: \"model_9\"\n",
      "_________________________________________________________________\n",
      " Layer (type)                Output Shape              Param #   \n",
      "=================================================================\n",
      " input_14 (InputLayer)       [(None, 25, 9)]           0         \n",
      "                                                                 \n",
      " dense_64 (Dense)            (None, 25, 14)            140       \n",
      "                                                                 \n",
      " dropout_22 (Dropout)        (None, 25, 14)            0         \n",
      "                                                                 \n",
      " dense_65 (Dense)            (None, 25, 7)             105       \n",
      "                                                                 \n",
      " dense_66 (Dense)            (None, 25, 4)             32        \n",
      "                                                                 \n",
      " dense_67 (Dense)            (None, 25, 7)             35        \n",
      "                                                                 \n",
      " dropout_23 (Dropout)        (None, 25, 7)             0         \n",
      "                                                                 \n",
      " dense_68 (Dense)            (None, 25, 14)            112       \n",
      "                                                                 \n",
      " dense_69 (Dense)            (None, 25, 1)             15        \n",
      "                                                                 \n",
      "=================================================================\n",
      "Total params: 439\n",
      "Trainable params: 439\n",
      "Non-trainable params: 0\n",
      "_________________________________________________________________\n",
      "None\n"
     ]
    }
   ],
   "source": [
    "input_layer = tf.keras.layers.Input(shape=(input_dim, 9))\n",
    "#Encoder\n",
    "encoder = tf.keras.layers.Dense(encoding_dim, activation=\"tanh\",activity_regularizer=tf.keras.regularizers.l2(learning_rate))(input_layer)\n",
    "encoder=tf.keras.layers.Dropout(0.2)(encoder)\n",
    "encoder = tf.keras.layers.Dense(hidden_dim_1, activation='relu')(encoder)\n",
    "encoder = tf.keras.layers.Dense(hidden_dim_2, activation=tf.nn.leaky_relu)(encoder)\n",
    "# Decoder\n",
    "decoder = tf.keras.layers.Dense(hidden_dim_1, activation='relu')(encoder)\n",
    "decoder=tf.keras.layers.Dropout(0.2)(decoder)\n",
    "decoder = tf.keras.layers.Dense(encoding_dim, activation='relu')(decoder)\n",
    "decoder = tf.keras.layers.Dense(1, activation='tanh')(decoder)\n",
    "#Autoencoder\n",
    "autoencoder = tf.keras.Model(inputs=input_layer, outputs=decoder)\n",
    "print(autoencoder.summary())"
   ],
   "metadata": {
    "collapsed": false,
    "pycharm": {
     "name": "#%%\n"
    }
   }
  },
  {
   "cell_type": "code",
   "execution_count": 264,
   "outputs": [],
   "source": [
    "cp = tf.keras.callbacks.ModelCheckpoint(filepath=\"autoencoder_fraud.h5\",\n",
    "                               mode='min', monitor='val_loss', verbose=2, save_best_only=True)\n",
    "# define our early stopping\n",
    "early_stop = tf.keras.callbacks.EarlyStopping(\n",
    "    monitor='val_loss',\n",
    "    min_delta=0.0001,\n",
    "    patience=10,\n",
    "    verbose=1,\n",
    "    mode='min',\n",
    "    restore_best_weights=True)\n",
    "autoencoder.compile(metrics=['accuracy'],\n",
    "                    loss='mean_squared_error',\n",
    "                    optimizer='adam')"
   ],
   "metadata": {
    "collapsed": false,
    "pycharm": {
     "name": "#%%\n"
    }
   }
  },
  {
   "cell_type": "code",
   "execution_count": 265,
   "outputs": [
    {
     "name": "stdout",
     "output_type": "stream",
     "text": [
      "319/319 [==============================] - 0s 1ms/step - loss: 0.0240 - accuracy: 0.9392\n",
      "Epoch 167/200\n",
      "319/319 [==============================] - 0s 1ms/step - loss: 0.0239 - accuracy: 0.9389\n",
      "Epoch 168/200\n",
      "319/319 [==============================] - 0s 1ms/step - loss: 0.0239 - accuracy: 0.9393\n",
      "Epoch 169/200\n",
      "319/319 [==============================] - 0s 1ms/step - loss: 0.0243 - accuracy: 0.9389\n",
      "Epoch 170/200\n",
      "319/319 [==============================] - 0s 1ms/step - loss: 0.0241 - accuracy: 0.9389\n",
      "Epoch 171/200\n",
      "319/319 [==============================] - 0s 1ms/step - loss: 0.0239 - accuracy: 0.9392\n",
      "Epoch 172/200\n",
      "319/319 [==============================] - 0s 1ms/step - loss: 0.0244 - accuracy: 0.9389\n",
      "Epoch 173/200\n",
      "319/319 [==============================] - 0s 1ms/step - loss: 0.0239 - accuracy: 0.9393\n",
      "Epoch 174/200\n",
      "319/319 [==============================] - 0s 1ms/step - loss: 0.0243 - accuracy: 0.9392\n",
      "Epoch 175/200\n",
      "319/319 [==============================] - 0s 1ms/step - loss: 0.0240 - accuracy: 0.9388\n",
      "Epoch 176/200\n",
      "319/319 [==============================] - 0s 1ms/step - loss: 0.0241 - accuracy: 0.9388\n",
      "Epoch 177/200\n",
      "319/319 [==============================] - 0s 1ms/step - loss: 0.0237 - accuracy: 0.9391\n",
      "Epoch 178/200\n",
      "319/319 [==============================] - 0s 1ms/step - loss: 0.0238 - accuracy: 0.9391\n",
      "Epoch 179/200\n",
      "319/319 [==============================] - 0s 1ms/step - loss: 0.0239 - accuracy: 0.9388\n",
      "Epoch 180/200\n",
      "319/319 [==============================] - 0s 1ms/step - loss: 0.0240 - accuracy: 0.9389\n",
      "Epoch 181/200\n",
      "319/319 [==============================] - 0s 1ms/step - loss: 0.0241 - accuracy: 0.9392\n",
      "Epoch 182/200\n",
      "319/319 [==============================] - 0s 1ms/step - loss: 0.0239 - accuracy: 0.9392\n",
      "Epoch 183/200\n",
      "319/319 [==============================] - 0s 1ms/step - loss: 0.0240 - accuracy: 0.9393\n",
      "Epoch 184/200\n",
      "319/319 [==============================] - 0s 1ms/step - loss: 0.0244 - accuracy: 0.9387\n",
      "Epoch 185/200\n",
      "319/319 [==============================] - 0s 1ms/step - loss: 0.0240 - accuracy: 0.9387\n",
      "Epoch 186/200\n",
      "319/319 [==============================] - 0s 1ms/step - loss: 0.0238 - accuracy: 0.9393\n",
      "Epoch 187/200\n",
      "319/319 [==============================] - 0s 1ms/step - loss: 0.0241 - accuracy: 0.9387\n",
      "Epoch 188/200\n",
      "319/319 [==============================] - 0s 1ms/step - loss: 0.0244 - accuracy: 0.9391\n",
      "Epoch 189/200\n",
      "319/319 [==============================] - 0s 1ms/step - loss: 0.0240 - accuracy: 0.9393\n",
      "Epoch 190/200\n",
      "319/319 [==============================] - 0s 1ms/step - loss: 0.0236 - accuracy: 0.9393\n",
      "Epoch 191/200\n",
      "319/319 [==============================] - 0s 1ms/step - loss: 0.0241 - accuracy: 0.9389\n",
      "Epoch 192/200\n",
      "319/319 [==============================] - 0s 1ms/step - loss: 0.0247 - accuracy: 0.9388\n",
      "Epoch 193/200\n",
      "319/319 [==============================] - 0s 1ms/step - loss: 0.0242 - accuracy: 0.9392\n",
      "Epoch 194/200\n",
      "319/319 [==============================] - 0s 1ms/step - loss: 0.0239 - accuracy: 0.9393\n",
      "Epoch 195/200\n",
      "319/319 [==============================] - 0s 1ms/step - loss: 0.0245 - accuracy: 0.9392\n",
      "Epoch 196/200\n",
      "319/319 [==============================] - 0s 1ms/step - loss: 0.0241 - accuracy: 0.9392\n",
      "Epoch 197/200\n",
      "319/319 [==============================] - 0s 1ms/step - loss: 0.0244 - accuracy: 0.9389\n",
      "Epoch 198/200\n",
      "319/319 [==============================] - 0s 1ms/step - loss: 0.0241 - accuracy: 0.9387\n",
      "Epoch 199/200\n",
      "319/319 [==============================] - 0s 1ms/step - loss: 0.0240 - accuracy: 0.9389\n",
      "Epoch 200/200\n",
      "319/319 [==============================] - 0s 1ms/step - loss: 0.0240 - accuracy: 0.9393\n",
      "Epoch 1/200\n",
      "319/319 [==============================] - 1s 870us/step - loss: 0.0326 - accuracy: 0.9384\n",
      "Epoch 2/200\n",
      "319/319 [==============================] - 0s 849us/step - loss: 0.0291 - accuracy: 0.9384\n",
      "Epoch 3/200\n",
      "319/319 [==============================] - 0s 826us/step - loss: 0.0279 - accuracy: 0.9384\n",
      "Epoch 4/200\n",
      "319/319 [==============================] - 0s 850us/step - loss: 0.0273 - accuracy: 0.9384\n",
      "Epoch 5/200\n",
      "319/319 [==============================] - 0s 831us/step - loss: 0.0277 - accuracy: 0.9384\n",
      "Epoch 6/200\n",
      "319/319 [==============================] - 0s 885us/step - loss: 0.0269 - accuracy: 0.9384\n",
      "Epoch 7/200\n",
      "319/319 [==============================] - 0s 898us/step - loss: 0.0267 - accuracy: 0.9384\n",
      "Epoch 8/200\n",
      "319/319 [==============================] - 0s 818us/step - loss: 0.0265 - accuracy: 0.9384\n",
      "Epoch 9/200\n",
      "319/319 [==============================] - 0s 825us/step - loss: 0.0261 - accuracy: 0.9384\n",
      "Epoch 10/200\n",
      "319/319 [==============================] - 0s 894us/step - loss: 0.0264 - accuracy: 0.9384\n",
      "Epoch 11/200\n",
      "319/319 [==============================] - 0s 931us/step - loss: 0.0262 - accuracy: 0.9384\n",
      "Epoch 12/200\n",
      "319/319 [==============================] - 0s 875us/step - loss: 0.0257 - accuracy: 0.9384\n",
      "Epoch 13/200\n",
      "319/319 [==============================] - 0s 880us/step - loss: 0.0261 - accuracy: 0.9384\n",
      "Epoch 14/200\n",
      "319/319 [==============================] - 0s 910us/step - loss: 0.0256 - accuracy: 0.9384\n",
      "Epoch 15/200\n",
      "319/319 [==============================] - 0s 988us/step - loss: 0.0258 - accuracy: 0.9384\n",
      "Epoch 16/200\n",
      "319/319 [==============================] - 0s 937us/step - loss: 0.0258 - accuracy: 0.9384\n",
      "Epoch 17/200\n",
      "319/319 [==============================] - 0s 975us/step - loss: 0.0256 - accuracy: 0.9384\n",
      "Epoch 18/200\n",
      "319/319 [==============================] - 0s 991us/step - loss: 0.0255 - accuracy: 0.9384\n",
      "Epoch 19/200\n",
      "319/319 [==============================] - 0s 879us/step - loss: 0.0252 - accuracy: 0.9384\n",
      "Epoch 20/200\n",
      "319/319 [==============================] - 0s 820us/step - loss: 0.0255 - accuracy: 0.9384\n",
      "Epoch 21/200\n",
      "319/319 [==============================] - 0s 866us/step - loss: 0.0258 - accuracy: 0.9384\n",
      "Epoch 22/200\n",
      "319/319 [==============================] - 0s 855us/step - loss: 0.0254 - accuracy: 0.9384\n",
      "Epoch 23/200\n",
      "319/319 [==============================] - 0s 858us/step - loss: 0.0257 - accuracy: 0.9384\n",
      "Epoch 24/200\n",
      "319/319 [==============================] - 0s 857us/step - loss: 0.0255 - accuracy: 0.9384\n",
      "Epoch 25/200\n",
      "319/319 [==============================] - 0s 862us/step - loss: 0.0254 - accuracy: 0.9384\n",
      "Epoch 26/200\n",
      "319/319 [==============================] - 0s 876us/step - loss: 0.0254 - accuracy: 0.9384\n",
      "Epoch 27/200\n",
      "319/319 [==============================] - 0s 895us/step - loss: 0.0254 - accuracy: 0.9384\n",
      "Epoch 28/200\n",
      "319/319 [==============================] - 0s 875us/step - loss: 0.0253 - accuracy: 0.9384\n",
      "Epoch 29/200\n",
      "319/319 [==============================] - 0s 924us/step - loss: 0.0252 - accuracy: 0.9384\n",
      "Epoch 30/200\n",
      "319/319 [==============================] - 0s 923us/step - loss: 0.0252 - accuracy: 0.9384\n",
      "Epoch 31/200\n",
      "319/319 [==============================] - 0s 948us/step - loss: 0.0251 - accuracy: 0.9384\n",
      "Epoch 32/200\n",
      "319/319 [==============================] - 0s 993us/step - loss: 0.0256 - accuracy: 0.9384\n",
      "Epoch 33/200\n",
      "319/319 [==============================] - 0s 1ms/step - loss: 0.0253 - accuracy: 0.9384\n",
      "Epoch 34/200\n",
      "319/319 [==============================] - 0s 996us/step - loss: 0.0250 - accuracy: 0.9384\n",
      "Epoch 35/200\n",
      "319/319 [==============================] - 0s 1ms/step - loss: 0.0248 - accuracy: 0.9386\n",
      "Epoch 36/200\n",
      "319/319 [==============================] - 0s 1ms/step - loss: 0.0255 - accuracy: 0.9384\n",
      "Epoch 37/200\n",
      "319/319 [==============================] - 0s 1ms/step - loss: 0.0252 - accuracy: 0.9384\n",
      "Epoch 38/200\n",
      "319/319 [==============================] - 0s 1ms/step - loss: 0.0252 - accuracy: 0.9384\n",
      "Epoch 39/200\n",
      "319/319 [==============================] - 0s 1ms/step - loss: 0.0248 - accuracy: 0.9384\n",
      "Epoch 40/200\n",
      "319/319 [==============================] - 0s 1ms/step - loss: 0.0250 - accuracy: 0.9386\n",
      "Epoch 41/200\n",
      "319/319 [==============================] - 0s 1ms/step - loss: 0.0250 - accuracy: 0.9386\n",
      "Epoch 42/200\n",
      "319/319 [==============================] - 0s 1ms/step - loss: 0.0251 - accuracy: 0.9386\n",
      "Epoch 43/200\n",
      "319/319 [==============================] - 0s 1ms/step - loss: 0.0245 - accuracy: 0.9387\n",
      "Epoch 44/200\n",
      "319/319 [==============================] - 0s 1ms/step - loss: 0.0251 - accuracy: 0.9384\n",
      "Epoch 45/200\n",
      "319/319 [==============================] - 0s 1ms/step - loss: 0.0249 - accuracy: 0.9384\n",
      "Epoch 46/200\n",
      "319/319 [==============================] - 0s 1ms/step - loss: 0.0247 - accuracy: 0.9386\n",
      "Epoch 47/200\n",
      "319/319 [==============================] - 0s 1ms/step - loss: 0.0247 - accuracy: 0.9387\n",
      "Epoch 48/200\n",
      "319/319 [==============================] - 0s 1ms/step - loss: 0.0251 - accuracy: 0.9384\n",
      "Epoch 49/200\n",
      "319/319 [==============================] - 0s 1ms/step - loss: 0.0246 - accuracy: 0.9386\n",
      "Epoch 50/200\n",
      "319/319 [==============================] - 0s 1ms/step - loss: 0.0248 - accuracy: 0.9387\n",
      "Epoch 51/200\n",
      "319/319 [==============================] - 0s 1ms/step - loss: 0.0248 - accuracy: 0.9386\n",
      "Epoch 52/200\n",
      "319/319 [==============================] - 0s 1ms/step - loss: 0.0250 - accuracy: 0.9384\n",
      "Epoch 53/200\n",
      "319/319 [==============================] - 0s 1ms/step - loss: 0.0250 - accuracy: 0.9386\n",
      "Epoch 54/200\n",
      "319/319 [==============================] - 0s 1ms/step - loss: 0.0250 - accuracy: 0.9386\n",
      "Epoch 55/200\n",
      "319/319 [==============================] - 0s 1ms/step - loss: 0.0247 - accuracy: 0.9386\n",
      "Epoch 56/200\n",
      "319/319 [==============================] - 0s 1ms/step - loss: 0.0247 - accuracy: 0.9386\n",
      "Epoch 57/200\n",
      "319/319 [==============================] - 0s 1ms/step - loss: 0.0250 - accuracy: 0.9386\n",
      "Epoch 58/200\n",
      "319/319 [==============================] - 0s 1ms/step - loss: 0.0250 - accuracy: 0.9386\n",
      "Epoch 59/200\n",
      "319/319 [==============================] - 0s 1ms/step - loss: 0.0249 - accuracy: 0.9383\n",
      "Epoch 60/200\n",
      "319/319 [==============================] - 0s 1ms/step - loss: 0.0249 - accuracy: 0.9387\n",
      "Epoch 61/200\n",
      "319/319 [==============================] - 0s 1ms/step - loss: 0.0247 - accuracy: 0.9386\n",
      "Epoch 62/200\n",
      "319/319 [==============================] - 0s 1ms/step - loss: 0.0250 - accuracy: 0.9386\n",
      "Epoch 63/200\n",
      "319/319 [==============================] - 0s 1ms/step - loss: 0.0248 - accuracy: 0.9387\n",
      "Epoch 64/200\n",
      "319/319 [==============================] - 0s 1ms/step - loss: 0.0247 - accuracy: 0.9387\n",
      "Epoch 65/200\n",
      "319/319 [==============================] - 0s 1ms/step - loss: 0.0248 - accuracy: 0.9387\n",
      "Epoch 66/200\n",
      "319/319 [==============================] - 0s 1ms/step - loss: 0.0246 - accuracy: 0.9387\n",
      "Epoch 67/200\n",
      "319/319 [==============================] - 0s 1ms/step - loss: 0.0247 - accuracy: 0.9387\n",
      "Epoch 68/200\n",
      "319/319 [==============================] - 0s 1ms/step - loss: 0.0245 - accuracy: 0.9387\n",
      "Epoch 69/200\n",
      "319/319 [==============================] - 0s 1ms/step - loss: 0.0243 - accuracy: 0.9389\n",
      "Epoch 70/200\n",
      "319/319 [==============================] - 0s 1ms/step - loss: 0.0246 - accuracy: 0.9388\n",
      "Epoch 71/200\n",
      "319/319 [==============================] - 0s 1ms/step - loss: 0.0243 - accuracy: 0.9391\n",
      "Epoch 72/200\n",
      "319/319 [==============================] - 0s 1ms/step - loss: 0.0251 - accuracy: 0.9383\n",
      "Epoch 73/200\n",
      "319/319 [==============================] - 0s 1ms/step - loss: 0.0250 - accuracy: 0.9389\n",
      "Epoch 74/200\n",
      "319/319 [==============================] - 0s 1ms/step - loss: 0.0247 - accuracy: 0.9387\n",
      "Epoch 75/200\n",
      "319/319 [==============================] - 0s 1ms/step - loss: 0.0246 - accuracy: 0.9388\n",
      "Epoch 76/200\n",
      "319/319 [==============================] - 0s 1ms/step - loss: 0.0245 - accuracy: 0.9388\n",
      "Epoch 77/200\n",
      "319/319 [==============================] - 0s 1ms/step - loss: 0.0247 - accuracy: 0.9388\n",
      "Epoch 78/200\n",
      "319/319 [==============================] - 0s 1ms/step - loss: 0.0250 - accuracy: 0.9384\n",
      "Epoch 79/200\n",
      "319/319 [==============================] - 0s 1ms/step - loss: 0.0246 - accuracy: 0.9388\n",
      "Epoch 80/200\n",
      "319/319 [==============================] - 0s 1ms/step - loss: 0.0249 - accuracy: 0.9384\n",
      "Epoch 81/200\n",
      "319/319 [==============================] - 0s 1ms/step - loss: 0.0246 - accuracy: 0.9384\n",
      "Epoch 82/200\n",
      "319/319 [==============================] - 0s 1ms/step - loss: 0.0245 - accuracy: 0.9389\n",
      "Epoch 83/200\n",
      "319/319 [==============================] - 0s 1ms/step - loss: 0.0247 - accuracy: 0.9384\n",
      "Epoch 84/200\n",
      "319/319 [==============================] - 0s 1ms/step - loss: 0.0247 - accuracy: 0.9386\n",
      "Epoch 85/200\n",
      "319/319 [==============================] - 0s 1ms/step - loss: 0.0245 - accuracy: 0.9387\n",
      "Epoch 86/200\n",
      "319/319 [==============================] - 0s 1ms/step - loss: 0.0246 - accuracy: 0.9383\n",
      "Epoch 87/200\n",
      "319/319 [==============================] - 0s 1ms/step - loss: 0.0244 - accuracy: 0.9386\n",
      "Epoch 88/200\n",
      "319/319 [==============================] - 0s 1ms/step - loss: 0.0245 - accuracy: 0.9387\n",
      "Epoch 89/200\n",
      "319/319 [==============================] - 0s 1ms/step - loss: 0.0245 - accuracy: 0.9387\n",
      "Epoch 90/200\n",
      "319/319 [==============================] - 0s 1ms/step - loss: 0.0247 - accuracy: 0.9391\n",
      "Epoch 91/200\n",
      "319/319 [==============================] - 0s 1ms/step - loss: 0.0247 - accuracy: 0.9384\n",
      "Epoch 92/200\n",
      "319/319 [==============================] - 0s 1ms/step - loss: 0.0246 - accuracy: 0.9387\n",
      "Epoch 93/200\n",
      "319/319 [==============================] - 0s 1ms/step - loss: 0.0250 - accuracy: 0.9386\n",
      "Epoch 94/200\n",
      "319/319 [==============================] - 0s 1ms/step - loss: 0.0246 - accuracy: 0.9387\n",
      "Epoch 95/200\n",
      "319/319 [==============================] - 0s 1ms/step - loss: 0.0242 - accuracy: 0.9387\n",
      "Epoch 96/200\n",
      "319/319 [==============================] - 0s 1ms/step - loss: 0.0243 - accuracy: 0.9389\n",
      "Epoch 97/200\n",
      "319/319 [==============================] - 0s 1ms/step - loss: 0.0249 - accuracy: 0.9384\n",
      "Epoch 98/200\n",
      "319/319 [==============================] - 0s 1ms/step - loss: 0.0250 - accuracy: 0.9386\n",
      "Epoch 99/200\n",
      "319/319 [==============================] - 0s 1ms/step - loss: 0.0245 - accuracy: 0.9384\n",
      "Epoch 100/200\n",
      "319/319 [==============================] - 0s 1ms/step - loss: 0.0247 - accuracy: 0.9386\n",
      "Epoch 101/200\n",
      "319/319 [==============================] - 0s 1ms/step - loss: 0.0245 - accuracy: 0.9387\n",
      "Epoch 102/200\n",
      "319/319 [==============================] - 0s 1ms/step - loss: 0.0245 - accuracy: 0.9386\n",
      "Epoch 103/200\n",
      "319/319 [==============================] - 0s 1ms/step - loss: 0.0245 - accuracy: 0.9387\n",
      "Epoch 104/200\n",
      "319/319 [==============================] - 0s 1ms/step - loss: 0.0248 - accuracy: 0.9387\n",
      "Epoch 105/200\n",
      "319/319 [==============================] - 0s 1ms/step - loss: 0.0245 - accuracy: 0.9387\n",
      "Epoch 106/200\n",
      "319/319 [==============================] - 0s 1ms/step - loss: 0.0245 - accuracy: 0.9389\n",
      "Epoch 107/200\n",
      "319/319 [==============================] - 0s 1ms/step - loss: 0.0247 - accuracy: 0.9391\n",
      "Epoch 108/200\n",
      "319/319 [==============================] - 0s 1ms/step - loss: 0.0242 - accuracy: 0.9388\n",
      "Epoch 109/200\n",
      "319/319 [==============================] - 0s 1ms/step - loss: 0.0243 - accuracy: 0.9389\n",
      "Epoch 110/200\n",
      "319/319 [==============================] - 0s 1ms/step - loss: 0.0248 - accuracy: 0.9384\n",
      "Epoch 111/200\n",
      "319/319 [==============================] - 0s 1ms/step - loss: 0.0248 - accuracy: 0.9386\n",
      "Epoch 112/200\n",
      "319/319 [==============================] - 0s 1ms/step - loss: 0.0246 - accuracy: 0.9386\n",
      "Epoch 113/200\n",
      "319/319 [==============================] - 0s 1ms/step - loss: 0.0243 - accuracy: 0.9388\n",
      "Epoch 114/200\n",
      "319/319 [==============================] - 0s 1ms/step - loss: 0.0249 - accuracy: 0.9384\n",
      "Epoch 115/200\n",
      "319/319 [==============================] - 0s 1ms/step - loss: 0.0245 - accuracy: 0.9387\n",
      "Epoch 116/200\n",
      "319/319 [==============================] - 0s 1ms/step - loss: 0.0245 - accuracy: 0.9387\n",
      "Epoch 117/200\n",
      "319/319 [==============================] - 0s 1ms/step - loss: 0.0245 - accuracy: 0.9388\n",
      "Epoch 118/200\n",
      "319/319 [==============================] - 0s 1ms/step - loss: 0.0244 - accuracy: 0.9388\n",
      "Epoch 119/200\n",
      "319/319 [==============================] - 0s 1ms/step - loss: 0.0246 - accuracy: 0.9387\n",
      "Epoch 120/200\n",
      "319/319 [==============================] - 0s 1ms/step - loss: 0.0245 - accuracy: 0.9388\n",
      "Epoch 121/200\n",
      "319/319 [==============================] - 0s 1ms/step - loss: 0.0243 - accuracy: 0.9391\n",
      "Epoch 122/200\n",
      "319/319 [==============================] - 0s 1ms/step - loss: 0.0245 - accuracy: 0.9388\n",
      "Epoch 123/200\n",
      "319/319 [==============================] - 0s 1ms/step - loss: 0.0247 - accuracy: 0.9389\n",
      "Epoch 124/200\n",
      "319/319 [==============================] - 0s 1ms/step - loss: 0.0243 - accuracy: 0.9384\n",
      "Epoch 125/200\n",
      "319/319 [==============================] - 0s 1ms/step - loss: 0.0247 - accuracy: 0.9388\n",
      "Epoch 126/200\n",
      "319/319 [==============================] - 0s 1ms/step - loss: 0.0241 - accuracy: 0.9387\n",
      "Epoch 127/200\n",
      "319/319 [==============================] - 0s 1ms/step - loss: 0.0244 - accuracy: 0.9388\n",
      "Epoch 128/200\n",
      "319/319 [==============================] - 0s 1ms/step - loss: 0.0246 - accuracy: 0.9383\n",
      "Epoch 129/200\n",
      "319/319 [==============================] - 0s 1ms/step - loss: 0.0246 - accuracy: 0.9388\n",
      "Epoch 130/200\n",
      "319/319 [==============================] - 0s 1ms/step - loss: 0.0245 - accuracy: 0.9386\n",
      "Epoch 131/200\n",
      "319/319 [==============================] - 0s 1ms/step - loss: 0.0242 - accuracy: 0.9387\n",
      "Epoch 132/200\n",
      "319/319 [==============================] - 0s 1ms/step - loss: 0.0242 - accuracy: 0.9391\n",
      "Epoch 133/200\n",
      "319/319 [==============================] - 0s 1ms/step - loss: 0.0244 - accuracy: 0.9389\n",
      "Epoch 134/200\n",
      "319/319 [==============================] - 0s 1ms/step - loss: 0.0244 - accuracy: 0.9387\n",
      "Epoch 135/200\n",
      "319/319 [==============================] - 0s 1ms/step - loss: 0.0244 - accuracy: 0.9384\n",
      "Epoch 136/200\n",
      "319/319 [==============================] - 0s 1ms/step - loss: 0.0243 - accuracy: 0.9391\n",
      "Epoch 137/200\n",
      "319/319 [==============================] - 0s 1ms/step - loss: 0.0244 - accuracy: 0.9384\n",
      "Epoch 138/200\n",
      "319/319 [==============================] - 0s 1ms/step - loss: 0.0246 - accuracy: 0.9387\n",
      "Epoch 139/200\n",
      "319/319 [==============================] - 0s 1ms/step - loss: 0.0243 - accuracy: 0.9387\n",
      "Epoch 140/200\n",
      "319/319 [==============================] - 0s 1ms/step - loss: 0.0243 - accuracy: 0.9389\n",
      "Epoch 141/200\n",
      "319/319 [==============================] - 0s 1ms/step - loss: 0.0246 - accuracy: 0.9384\n",
      "Epoch 142/200\n",
      "319/319 [==============================] - 0s 1ms/step - loss: 0.0245 - accuracy: 0.9388\n",
      "Epoch 143/200\n",
      "319/319 [==============================] - 0s 1ms/step - loss: 0.0245 - accuracy: 0.9388\n",
      "Epoch 144/200\n",
      "319/319 [==============================] - 0s 1ms/step - loss: 0.0243 - accuracy: 0.9389\n",
      "Epoch 145/200\n",
      "319/319 [==============================] - 0s 1ms/step - loss: 0.0244 - accuracy: 0.9391\n",
      "Epoch 146/200\n",
      "319/319 [==============================] - 0s 1ms/step - loss: 0.0239 - accuracy: 0.9388\n",
      "Epoch 147/200\n",
      "319/319 [==============================] - 0s 1ms/step - loss: 0.0245 - accuracy: 0.9391\n",
      "Epoch 148/200\n",
      "319/319 [==============================] - 0s 1ms/step - loss: 0.0245 - accuracy: 0.9391\n",
      "Epoch 149/200\n",
      "319/319 [==============================] - 0s 1ms/step - loss: 0.0246 - accuracy: 0.9387\n",
      "Epoch 150/200\n",
      "319/319 [==============================] - 0s 1ms/step - loss: 0.0244 - accuracy: 0.9387\n",
      "Epoch 151/200\n",
      "319/319 [==============================] - 0s 1ms/step - loss: 0.0242 - accuracy: 0.9389\n",
      "Epoch 152/200\n",
      "319/319 [==============================] - 0s 1ms/step - loss: 0.0243 - accuracy: 0.9383\n",
      "Epoch 153/200\n",
      "319/319 [==============================] - 0s 1ms/step - loss: 0.0245 - accuracy: 0.9387\n",
      "Epoch 154/200\n",
      "319/319 [==============================] - 0s 1ms/step - loss: 0.0242 - accuracy: 0.9391\n",
      "Epoch 155/200\n",
      "319/319 [==============================] - 0s 1ms/step - loss: 0.0243 - accuracy: 0.9391\n",
      "Epoch 156/200\n",
      "319/319 [==============================] - 0s 1ms/step - loss: 0.0244 - accuracy: 0.9388\n",
      "Epoch 157/200\n",
      "319/319 [==============================] - 0s 1ms/step - loss: 0.0245 - accuracy: 0.9387\n",
      "Epoch 158/200\n",
      "319/319 [==============================] - 0s 1ms/step - loss: 0.0243 - accuracy: 0.9387\n",
      "Epoch 159/200\n",
      "319/319 [==============================] - 0s 1ms/step - loss: 0.0242 - accuracy: 0.9388\n",
      "Epoch 160/200\n",
      "319/319 [==============================] - 0s 1ms/step - loss: 0.0243 - accuracy: 0.9386\n",
      "Epoch 161/200\n",
      "319/319 [==============================] - 0s 1ms/step - loss: 0.0241 - accuracy: 0.9382\n",
      "Epoch 162/200\n",
      "319/319 [==============================] - 0s 1ms/step - loss: 0.0243 - accuracy: 0.9387\n",
      "Epoch 163/200\n",
      "319/319 [==============================] - 0s 1ms/step - loss: 0.0245 - accuracy: 0.9388\n",
      "Epoch 164/200\n",
      "319/319 [==============================] - 0s 1ms/step - loss: 0.0242 - accuracy: 0.9389\n",
      "Epoch 165/200\n",
      "319/319 [==============================] - 0s 1ms/step - loss: 0.0243 - accuracy: 0.9388\n",
      "Epoch 166/200\n",
      "319/319 [==============================] - 0s 1ms/step - loss: 0.0248 - accuracy: 0.9391\n",
      "Epoch 167/200\n",
      "319/319 [==============================] - 0s 1ms/step - loss: 0.0247 - accuracy: 0.9386\n",
      "Epoch 168/200\n",
      "319/319 [==============================] - 0s 1ms/step - loss: 0.0244 - accuracy: 0.9389\n",
      "Epoch 169/200\n",
      "319/319 [==============================] - 0s 1ms/step - loss: 0.0247 - accuracy: 0.9386\n",
      "Epoch 170/200\n",
      "319/319 [==============================] - 0s 1ms/step - loss: 0.0242 - accuracy: 0.9388\n",
      "Epoch 171/200\n",
      "319/319 [==============================] - 0s 1ms/step - loss: 0.0242 - accuracy: 0.9391\n",
      "Epoch 172/200\n",
      "319/319 [==============================] - 0s 1ms/step - loss: 0.0248 - accuracy: 0.9388\n",
      "Epoch 173/200\n",
      "319/319 [==============================] - 0s 1ms/step - loss: 0.0243 - accuracy: 0.9389\n",
      "Epoch 174/200\n",
      "319/319 [==============================] - 0s 1ms/step - loss: 0.0245 - accuracy: 0.9383\n",
      "Epoch 175/200\n",
      "319/319 [==============================] - 0s 1ms/step - loss: 0.0245 - accuracy: 0.9384\n",
      "Epoch 176/200\n",
      "319/319 [==============================] - 0s 1ms/step - loss: 0.0248 - accuracy: 0.9387\n",
      "Epoch 177/200\n",
      "319/319 [==============================] - 0s 1ms/step - loss: 0.0243 - accuracy: 0.9388\n",
      "Epoch 178/200\n",
      "319/319 [==============================] - 0s 1ms/step - loss: 0.0244 - accuracy: 0.9392\n",
      "Epoch 179/200\n",
      "319/319 [==============================] - 0s 1ms/step - loss: 0.0245 - accuracy: 0.9384\n",
      "Epoch 180/200\n",
      "319/319 [==============================] - 0s 1ms/step - loss: 0.0244 - accuracy: 0.9387\n",
      "Epoch 181/200\n",
      "319/319 [==============================] - 0s 1ms/step - loss: 0.0243 - accuracy: 0.9387\n",
      "Epoch 182/200\n",
      "319/319 [==============================] - 0s 1ms/step - loss: 0.0248 - accuracy: 0.9384\n",
      "Epoch 183/200\n",
      "319/319 [==============================] - 0s 1ms/step - loss: 0.0246 - accuracy: 0.9387\n",
      "Epoch 184/200\n",
      "319/319 [==============================] - 0s 1ms/step - loss: 0.0242 - accuracy: 0.9384\n",
      "Epoch 185/200\n",
      "319/319 [==============================] - 0s 1ms/step - loss: 0.0245 - accuracy: 0.9391\n",
      "Epoch 186/200\n",
      "319/319 [==============================] - 0s 1000us/step - loss: 0.0244 - accuracy: 0.9388\n",
      "Epoch 187/200\n",
      "319/319 [==============================] - 0s 1ms/step - loss: 0.0243 - accuracy: 0.9387\n",
      "Epoch 188/200\n",
      "319/319 [==============================] - 0s 1ms/step - loss: 0.0244 - accuracy: 0.9388\n",
      "Epoch 189/200\n",
      "319/319 [==============================] - 0s 1ms/step - loss: 0.0246 - accuracy: 0.9384\n",
      "Epoch 190/200\n",
      "319/319 [==============================] - 0s 1ms/step - loss: 0.0244 - accuracy: 0.9391\n",
      "Epoch 191/200\n",
      "319/319 [==============================] - 0s 1ms/step - loss: 0.0243 - accuracy: 0.9386\n",
      "Epoch 192/200\n",
      "319/319 [==============================] - 0s 1ms/step - loss: 0.0247 - accuracy: 0.9387\n",
      "Epoch 193/200\n",
      "319/319 [==============================] - 0s 1ms/step - loss: 0.0248 - accuracy: 0.9386\n",
      "Epoch 194/200\n",
      "319/319 [==============================] - 0s 1ms/step - loss: 0.0245 - accuracy: 0.9389\n",
      "Epoch 195/200\n",
      "319/319 [==============================] - 0s 1ms/step - loss: 0.0243 - accuracy: 0.9387\n",
      "Epoch 196/200\n",
      "319/319 [==============================] - 0s 1ms/step - loss: 0.0245 - accuracy: 0.9388\n",
      "Epoch 197/200\n",
      "319/319 [==============================] - 0s 1ms/step - loss: 0.0242 - accuracy: 0.9392\n",
      "Epoch 198/200\n",
      "319/319 [==============================] - 0s 992us/step - loss: 0.0243 - accuracy: 0.9391\n",
      "Epoch 199/200\n",
      "319/319 [==============================] - 0s 977us/step - loss: 0.0244 - accuracy: 0.9389\n",
      "Epoch 200/200\n",
      "319/319 [==============================] - 0s 979us/step - loss: 0.0243 - accuracy: 0.9388\n"
     ]
    }
   ],
   "source": [
    "history = autoencoder.fit(X_trn, Y_trn,\n",
    "                    epochs=nb_epoch,\n",
    "                    batch_size=1,\n",
    "                    shuffle=True,\n",
    "                    verbose=1,\n",
    "                    ).history"
   ],
   "metadata": {
    "collapsed": false,
    "pycharm": {
     "name": "#%%\n"
    }
   }
  },
  {
   "cell_type": "code",
   "execution_count": 270,
   "outputs": [
    {
     "data": {
      "text/plain": "TensorShape([25, 9])"
     },
     "execution_count": 270,
     "metadata": {},
     "output_type": "execute_result"
    }
   ],
   "source": [
    "X_trn[0].shape"
   ],
   "metadata": {
    "collapsed": false,
    "pycharm": {
     "name": "#%%\n"
    }
   }
  },
  {
   "cell_type": "code",
   "execution_count": 271,
   "outputs": [],
   "source": [
    "x = np.array(X_trn[0])\n",
    "x.shape\n",
    "x = x.reshape(1,25,9)"
   ],
   "metadata": {
    "collapsed": false,
    "pycharm": {
     "name": "#%%\n"
    }
   }
  },
  {
   "cell_type": "code",
   "execution_count": 272,
   "outputs": [
    {
     "name": "stdout",
     "output_type": "stream",
     "text": [
      "1/1 [==============================] - 0s 157ms/step\n"
     ]
    },
    {
     "data": {
      "text/plain": "array([[[-0.54163295],\n        [ 0.00648695],\n        [ 0.00648695],\n        [ 0.00648695],\n        [ 0.00648695],\n        [ 0.1910774 ],\n        [ 0.00648695],\n        [ 0.00648695],\n        [ 0.00071188],\n        [ 0.00648695],\n        [ 0.00648695],\n        [-0.00163859],\n        [ 0.00648695],\n        [-0.00553543],\n        [ 0.00648695],\n        [ 0.00648695],\n        [ 0.00267781],\n        [ 0.00648695],\n        [ 0.00648695],\n        [ 0.00131044],\n        [ 0.00648695],\n        [ 0.00648695],\n        [ 0.4406498 ],\n        [ 0.00648695],\n        [-0.00220561]]], dtype=float32)"
     },
     "execution_count": 272,
     "metadata": {},
     "output_type": "execute_result"
    }
   ],
   "source": [
    "\n",
    "\n",
    "autoencoder.predict(x)"
   ],
   "metadata": {
    "collapsed": false,
    "pycharm": {
     "name": "#%%\n"
    }
   }
  },
  {
   "cell_type": "code",
   "execution_count": 255,
   "outputs": [
    {
     "data": {
      "text/plain": "<tf.Tensor: shape=(25, 1), dtype=float64, numpy=\narray([[-0.87841018],\n       [ 0.        ],\n       [ 0.        ],\n       [ 0.        ],\n       [ 0.        ],\n       [ 1.        ],\n       [ 1.        ],\n       [ 0.        ],\n       [ 0.        ],\n       [ 0.        ],\n       [ 0.        ],\n       [ 0.        ],\n       [ 0.        ],\n       [ 0.        ],\n       [ 0.        ],\n       [ 0.        ],\n       [ 0.        ],\n       [ 0.        ],\n       [ 0.        ],\n       [ 0.        ],\n       [ 0.        ],\n       [ 0.        ],\n       [ 0.        ],\n       [ 0.        ],\n       [ 0.        ]])>"
     },
     "execution_count": 255,
     "metadata": {},
     "output_type": "execute_result"
    }
   ],
   "source": [
    "x = np.array(X_trn[0])\n",
    "x = x.reshape(1,25,9)\n",
    "Y_trn[0]"
   ],
   "metadata": {
    "collapsed": false,
    "pycharm": {
     "name": "#%%\n"
    }
   }
  },
  {
   "cell_type": "code",
   "execution_count": 253,
   "outputs": [
    {
     "name": "stdout",
     "output_type": "stream",
     "text": [
      "1/1 [==============================] - 0s 15ms/step\n"
     ]
    },
    {
     "data": {
      "text/plain": "array([[[-0.6813766 ],\n        [ 0.0129029 ],\n        [ 0.01107617],\n        [ 0.0129029 ],\n        [ 0.0129029 ],\n        [ 0.2532945 ],\n        [ 0.0129029 ],\n        [ 0.0129029 ],\n        [ 0.0141429 ],\n        [ 0.0129029 ],\n        [ 0.0129029 ],\n        [ 0.03108365],\n        [ 0.0129029 ],\n        [ 0.01668264],\n        [ 0.0129029 ],\n        [ 0.0129029 ],\n        [ 0.00786474],\n        [ 0.0129029 ],\n        [ 0.0129029 ],\n        [ 0.03036799],\n        [ 0.0129029 ],\n        [ 0.0129029 ],\n        [ 0.16706328],\n        [ 0.0129029 ],\n        [ 0.05751929]]], dtype=float32)"
     },
     "execution_count": 253,
     "metadata": {},
     "output_type": "execute_result"
    }
   ],
   "source": [
    "autoencoder.predict(x)"
   ],
   "metadata": {
    "collapsed": false,
    "pycharm": {
     "name": "#%%\n"
    }
   }
  },
  {
   "cell_type": "code",
   "execution_count": null,
   "outputs": [],
   "source": [],
   "metadata": {
    "collapsed": false,
    "pycharm": {
     "name": "#%%\n"
    }
   }
  }
 ],
 "metadata": {
  "kernelspec": {
   "display_name": "Python 3",
   "language": "python",
   "name": "python3"
  },
  "language_info": {
   "codemirror_mode": {
    "name": "ipython",
    "version": 2
   },
   "file_extension": ".py",
   "mimetype": "text/x-python",
   "name": "python",
   "nbconvert_exporter": "python",
   "pygments_lexer": "ipython2",
   "version": "2.7.6"
  }
 },
 "nbformat": 4,
 "nbformat_minor": 0
}